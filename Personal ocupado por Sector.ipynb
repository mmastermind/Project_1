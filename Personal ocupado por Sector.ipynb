{
 "cells": [
  {
   "cell_type": "code",
   "execution_count": 2,
   "metadata": {},
   "outputs": [],
   "source": [
    "import matplotlib.pyplot as plt\n",
    "import pandas as pd\n",
    "import numpy as np\n",
    "import requests\n",
    "import time\n",
    "\n",
    "from config import key_INEGI\n",
    "from datetime import date"
   ]
  },
  {
   "cell_type": "code",
   "execution_count": 3,
   "metadata": {},
   "outputs": [
    {
     "data": {
      "text/plain": [
       "<Response [200]>"
      ]
     },
     "execution_count": 3,
     "metadata": {},
     "output_type": "execute_result"
    }
   ],
   "source": [
    "url =(f\"https://www.inegi.org.mx/app/api/indicadores/desarrolladores/jsonxml/INDICATOR/6207078891/es/00000/false/BISE/2.0/{key_INEGI}?type=json\")\n",
    "\n",
    "response = requests.get(url).json()\n",
    "requests.get(url)\n"
   ]
  },
  {
   "cell_type": "code",
   "execution_count": 10,
   "metadata": {},
   "outputs": [
    {
     "data": {
      "text/plain": [
       "<Response [200]>"
      ]
     },
     "execution_count": 10,
     "metadata": {},
     "output_type": "execute_result"
    }
   ],
   "source": [
    "#Recuerda cambiar true por false para que de todos los datos disponibles\n",
    "url2 = (f\"https://www.inegi.org.mx/app/api/indicadores/desarrolladores/jsonxml/INDICATOR/5300000091,6200029408/es/00000/false/BISE/2.0/{key_INEGI}?type=json\")\n",
    "response2 = requests.get(url2).json()\n",
    "\n",
    "requests.get(url2)"
   ]
  },
  {
   "cell_type": "code",
   "execution_count": 11,
   "metadata": {},
   "outputs": [
    {
     "data": {
      "text/plain": [
       "{'Header': {'Name': 'Datos compactos BISE',\n",
       "  'Email': 'atencion.usuarios@inegi.org.mx'},\n",
       " 'Series': [{'INDICADOR': '5300000091',\n",
       "   'FREQ': '7',\n",
       "   'TOPIC': '0080',\n",
       "   'UNIT': '5',\n",
       "   'NOTE': '',\n",
       "   'SOURCE': '10,11,581',\n",
       "   'LASTUPDATE': None,\n",
       "   'OBSERVATIONS': [{'TIME_PERIOD': '2012',\n",
       "     'OBS_VALUE': '91485.00000000000000000000',\n",
       "     'OBS_EXCEPTION': None,\n",
       "     'OBS_STATUS': '3',\n",
       "     'OBS_SOURCE': '',\n",
       "     'OBS_NOTE': '',\n",
       "     'COBER_GEO': '00'}]},\n",
       "  {'INDICADOR': '6200029408',\n",
       "   'FREQ': '3',\n",
       "   'TOPIC': '02300030',\n",
       "   'UNIT': '80',\n",
       "   'NOTE': '',\n",
       "   'SOURCE': '1142',\n",
       "   'LASTUPDATE': None,\n",
       "   'OBSERVATIONS': [{'TIME_PERIOD': '2012',\n",
       "     'OBS_VALUE': '91485.00000000000000000000',\n",
       "     'OBS_EXCEPTION': None,\n",
       "     'OBS_STATUS': '3',\n",
       "     'OBS_SOURCE': '',\n",
       "     'OBS_NOTE': '',\n",
       "     'COBER_GEO': '00'}]}]}"
      ]
     },
     "execution_count": 11,
     "metadata": {},
     "output_type": "execute_result"
    }
   ],
   "source": [
    "response2"
   ]
  },
  {
   "cell_type": "code",
   "execution_count": null,
   "metadata": {},
   "outputs": [],
   "source": []
  }
 ],
 "metadata": {
  "kernelspec": {
   "display_name": "Python 3",
   "language": "python",
   "name": "python3"
  },
  "language_info": {
   "codemirror_mode": {
    "name": "ipython",
    "version": 3
   },
   "file_extension": ".py",
   "mimetype": "text/x-python",
   "name": "python",
   "nbconvert_exporter": "python",
   "pygments_lexer": "ipython3",
   "version": "3.7.3"
  }
 },
 "nbformat": 4,
 "nbformat_minor": 2
}

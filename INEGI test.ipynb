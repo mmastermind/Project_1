{
 "cells": [
  {
   "cell_type": "markdown",
   "metadata": {},
   "source": [
    "# WeatherPy\n",
    "----\n",
    "\n",
    "#### Note\n",
    "* Instructions have been included for each segment. You do not have to follow them exactly, but they are included to help you think through the steps."
   ]
  },
  {
   "cell_type": "code",
   "execution_count": 16,
   "metadata": {
    "scrolled": true
   },
   "outputs": [],
   "source": [
    "# Dependencies and Setup\n",
    "import matplotlib.pyplot as plt\n",
    "import pandas as pd\n",
    "import numpy as np\n",
    "import requests\n",
    "import time\n",
    "\n",
    "# Import API key\n",
    "from config import key_INEGI\n",
    "from datetime import date\n",
    "output_data_file = \"output_data/desempleo.csv\"\n",
    "url =\"https://www.inegi.org.mx/app/api/indicadores/desarrolladores/jsonxml/INDICATOR/444843/es/00000/true/BIE/2.0/9e669d3e-b27d-af8b-8dc3-91cf8e696809?type=json\"\n"
   ]
  },
  {
   "cell_type": "markdown",
   "metadata": {},
   "source": [
    "## Generate Cities List"
   ]
  },
  {
   "cell_type": "code",
   "execution_count": 15,
   "metadata": {},
   "outputs": [
    {
     "data": {
      "text/plain": [
       "{'Header': {'Name': 'Datos compactos BIE',\n",
       "  'Email': 'atencion.usuarios@inegi.org.mx'},\n",
       " 'Series': [{'INDICADOR': '444843',\n",
       "   'FREQ': '8',\n",
       "   'TOPIC': '1010003500650170',\n",
       "   'UNIT': '136',\n",
       "   'NOTE': '2876',\n",
       "   'SOURCE': '69',\n",
       "   'LASTUPDATE': '26/06/2019 03:17:47 p. m.',\n",
       "   'OBSERVATIONS': [{'TIME_PERIOD': '2005/03',\n",
       "     'OBS_VALUE': '1.635328888938',\n",
       "     'OBS_EXCEPTION': '',\n",
       "     'OBS_STATUS': '1',\n",
       "     'OBS_SOURCE': '69',\n",
       "     'OBS_NOTE': None,\n",
       "     'COBER_GEO': '00'}]}]}"
      ]
     },
     "execution_count": 15,
     "metadata": {},
     "output_type": "execute_result"
    }
   ],
   "source": [
    "response = requests.get(url).json()\n",
    "requests.get(url)\n",
    "#response"
   ]
  },
  {
   "cell_type": "code",
   "execution_count": 21,
   "metadata": {},
   "outputs": [
    {
     "name": "stdout",
     "output_type": "stream",
     "text": [
      "<Response [200]>\n",
      "{'Header': {'Name': 'Datos compactos BIE', 'Email': 'atencion.usuarios@inegi.org.mx'}, 'Series': [{'INDICADOR': '444842', 'FREQ': '8', 'TOPIC': '1010003500650150', 'UNIT': '136', 'NOTE': '2876', 'SOURCE': '69', 'LASTUPDATE': '26/06/2019 03:17:47 p. m.', 'OBSERVATIONS': [{'TIME_PERIOD': '2005/03', 'OBS_VALUE': '4.652458417955', 'OBS_EXCEPTION': '', 'OBS_STATUS': '1', 'OBS_SOURCE': '69', 'OBS_NOTE': None, 'COBER_GEO': '00'}]}]}\n",
      "<Response [200]>\n",
      "{'Header': {'Name': 'Datos compactos BIE', 'Email': 'atencion.usuarios@inegi.org.mx'}, 'Series': [{'INDICADOR': '444843', 'FREQ': '8', 'TOPIC': '1010003500650170', 'UNIT': '136', 'NOTE': '2876', 'SOURCE': '69', 'LASTUPDATE': '26/06/2019 03:17:47 p. m.', 'OBSERVATIONS': [{'TIME_PERIOD': '2005/03', 'OBS_VALUE': '1.635328888938', 'OBS_EXCEPTION': '', 'OBS_STATUS': '1', 'OBS_SOURCE': '69', 'OBS_NOTE': None, 'COBER_GEO': '00'}]}]}\n",
      "<Response [200]>\n",
      "{'Header': {'Name': 'Datos compactos BIE', 'Email': 'atencion.usuarios@inegi.org.mx'}, 'Series': [{'INDICADOR': '444844', 'FREQ': '8', 'TOPIC': '1010003500650190', 'UNIT': '136', 'NOTE': '2876', 'SOURCE': '69', 'LASTUPDATE': '26/06/2019 03:17:47 p. m.', 'OBSERVATIONS': [{'TIME_PERIOD': '2005/03', 'OBS_VALUE': '2.623865946184', 'OBS_EXCEPTION': '', 'OBS_STATUS': '1', 'OBS_SOURCE': '69', 'OBS_NOTE': None, 'COBER_GEO': '00'}]}]}\n",
      "<Response [200]>\n",
      "{'Header': {'Name': 'Datos compactos BIE', 'Email': 'atencion.usuarios@inegi.org.mx'}, 'Series': [{'INDICADOR': '444845', 'FREQ': '8', 'TOPIC': '1010003500650210', 'UNIT': '136', 'NOTE': '2876', 'SOURCE': '69', 'LASTUPDATE': '26/06/2019 03:17:47 p. m.', 'OBSERVATIONS': [{'TIME_PERIOD': '2005/03', 'OBS_VALUE': '2.492287167826', 'OBS_EXCEPTION': '', 'OBS_STATUS': '1', 'OBS_SOURCE': '69', 'OBS_NOTE': None, 'COBER_GEO': '00'}]}]}\n",
      "<Response [200]>\n",
      "{'Header': {'Name': 'Datos compactos BIE', 'Email': 'atencion.usuarios@inegi.org.mx'}, 'Series': [{'INDICADOR': '444846', 'FREQ': '8', 'TOPIC': '1010003500650230', 'UNIT': '136', 'NOTE': '2876', 'SOURCE': '69', 'LASTUPDATE': '26/06/2019 03:17:47 p. m.', 'OBSERVATIONS': [{'TIME_PERIOD': '2005/03', 'OBS_VALUE': '4.971285430034', 'OBS_EXCEPTION': '', 'OBS_STATUS': '1', 'OBS_SOURCE': '69', 'OBS_NOTE': None, 'COBER_GEO': '00'}]}]}\n",
      "<Response [200]>\n",
      "{'Header': {'Name': 'Datos compactos BIE', 'Email': 'atencion.usuarios@inegi.org.mx'}, 'Series': [{'INDICADOR': '444847', 'FREQ': '8', 'TOPIC': '1010003500650250', 'UNIT': '136', 'NOTE': '2876', 'SOURCE': '69', 'LASTUPDATE': '26/06/2019 03:17:47 p. m.', 'OBSERVATIONS': [{'TIME_PERIOD': '2005/03', 'OBS_VALUE': '3.126243699347', 'OBS_EXCEPTION': '', 'OBS_STATUS': '1', 'OBS_SOURCE': '69', 'OBS_NOTE': None, 'COBER_GEO': '00'}]}]}\n",
      "<Response [200]>\n",
      "{'Header': {'Name': 'Datos compactos BIE', 'Email': 'atencion.usuarios@inegi.org.mx'}, 'Series': [{'INDICADOR': '444848', 'FREQ': '8', 'TOPIC': '1010003500650270', 'UNIT': '136', 'NOTE': '2876', 'SOURCE': '69', 'LASTUPDATE': '26/06/2019 03:17:47 p. m.', 'OBSERVATIONS': [{'TIME_PERIOD': '2005/03', 'OBS_VALUE': '2.15344688477', 'OBS_EXCEPTION': '', 'OBS_STATUS': '1', 'OBS_SOURCE': '69', 'OBS_NOTE': None, 'COBER_GEO': '00'}]}]}\n",
      "<Response [200]>\n",
      "{'Header': {'Name': 'Datos compactos BIE', 'Email': 'atencion.usuarios@inegi.org.mx'}, 'Series': [{'INDICADOR': '444849', 'FREQ': '8', 'TOPIC': '1010003500650290', 'UNIT': '136', 'NOTE': '2876', 'SOURCE': '69', 'LASTUPDATE': '26/06/2019 03:17:47 p. m.', 'OBSERVATIONS': [{'TIME_PERIOD': '2005/03', 'OBS_VALUE': '3.422027317293', 'OBS_EXCEPTION': '', 'OBS_STATUS': '1', 'OBS_SOURCE': '69', 'OBS_NOTE': None, 'COBER_GEO': '00'}]}]}\n",
      "<Response [200]>\n",
      "{'Header': {'Name': 'Datos compactos BIE', 'Email': 'atencion.usuarios@inegi.org.mx'}, 'Series': [{'INDICADOR': '444850', 'FREQ': '8', 'TOPIC': '1010003500650310', 'UNIT': '136', 'NOTE': '2876', 'SOURCE': '69', 'LASTUPDATE': '26/06/2019 03:17:47 p. m.', 'OBSERVATIONS': [{'TIME_PERIOD': '2005/03', 'OBS_VALUE': '5.470529164028', 'OBS_EXCEPTION': '', 'OBS_STATUS': '1', 'OBS_SOURCE': '69', 'OBS_NOTE': None, 'COBER_GEO': '00'}]}]}\n",
      "<Response [200]>\n",
      "{'Header': {'Name': 'Datos compactos BIE', 'Email': 'atencion.usuarios@inegi.org.mx'}, 'Series': [{'INDICADOR': '444851', 'FREQ': '8', 'TOPIC': '1010003500650330', 'UNIT': '136', 'NOTE': '2876', 'SOURCE': '69', 'LASTUPDATE': '26/06/2019 03:17:47 p. m.', 'OBSERVATIONS': [{'TIME_PERIOD': '2005/03', 'OBS_VALUE': '4.159833139344', 'OBS_EXCEPTION': '', 'OBS_STATUS': '1', 'OBS_SOURCE': '69', 'OBS_NOTE': None, 'COBER_GEO': '00'}]}]}\n",
      "<Response [200]>\n",
      "{'Header': {'Name': 'Datos compactos BIE', 'Email': 'atencion.usuarios@inegi.org.mx'}, 'Series': [{'INDICADOR': '444852', 'FREQ': '8', 'TOPIC': '1010003500650350', 'UNIT': '136', 'NOTE': '2876', 'SOURCE': '69', 'LASTUPDATE': '26/06/2019 03:17:47 p. m.', 'OBSERVATIONS': [{'TIME_PERIOD': '2005/03', 'OBS_VALUE': '4.564382747167', 'OBS_EXCEPTION': '', 'OBS_STATUS': '1', 'OBS_SOURCE': '69', 'OBS_NOTE': None, 'COBER_GEO': '00'}]}]}\n",
      "<Response [200]>\n",
      "{'Header': {'Name': 'Datos compactos BIE', 'Email': 'atencion.usuarios@inegi.org.mx'}, 'Series': [{'INDICADOR': '444853', 'FREQ': '8', 'TOPIC': '1010003500650370', 'UNIT': '136', 'NOTE': '2876', 'SOURCE': '69', 'LASTUPDATE': '26/06/2019 03:17:47 p. m.', 'OBSERVATIONS': [{'TIME_PERIOD': '2005/03', 'OBS_VALUE': '1.460642188291', 'OBS_EXCEPTION': '', 'OBS_STATUS': '1', 'OBS_SOURCE': '69', 'OBS_NOTE': None, 'COBER_GEO': '00'}]}]}\n",
      "<Response [200]>\n",
      "{'Header': {'Name': 'Datos compactos BIE', 'Email': 'atencion.usuarios@inegi.org.mx'}, 'Series': [{'INDICADOR': '444854', 'FREQ': '8', 'TOPIC': '1010003500650390', 'UNIT': '136', 'NOTE': '2876', 'SOURCE': '69', 'LASTUPDATE': '26/06/2019 03:17:47 p. m.', 'OBSERVATIONS': [{'TIME_PERIOD': '2005/03', 'OBS_VALUE': '3.230635195031', 'OBS_EXCEPTION': '', 'OBS_STATUS': '1', 'OBS_SOURCE': '69', 'OBS_NOTE': None, 'COBER_GEO': '00'}]}]}\n",
      "<Response [200]>\n",
      "{'Header': {'Name': 'Datos compactos BIE', 'Email': 'atencion.usuarios@inegi.org.mx'}, 'Series': [{'INDICADOR': '444855', 'FREQ': '8', 'TOPIC': '1010003500650410', 'UNIT': '136', 'NOTE': '2876', 'SOURCE': '69', 'LASTUPDATE': '26/06/2019 03:17:47 p. m.', 'OBSERVATIONS': [{'TIME_PERIOD': '2005/03', 'OBS_VALUE': '3.573188226965', 'OBS_EXCEPTION': '', 'OBS_STATUS': '1', 'OBS_SOURCE': '69', 'OBS_NOTE': None, 'COBER_GEO': '00'}]}]}\n",
      "<Response [200]>\n",
      "{'Header': {'Name': 'Datos compactos BIE', 'Email': 'atencion.usuarios@inegi.org.mx'}, 'Series': [{'INDICADOR': '444856', 'FREQ': '8', 'TOPIC': '1010003500650430', 'UNIT': '136', 'NOTE': '2876', 'SOURCE': '69', 'LASTUPDATE': '26/06/2019 03:17:47 p. m.', 'OBSERVATIONS': [{'TIME_PERIOD': '2005/03', 'OBS_VALUE': '5.176735120348', 'OBS_EXCEPTION': '', 'OBS_STATUS': '1', 'OBS_SOURCE': '69', 'OBS_NOTE': None, 'COBER_GEO': '00'}]}]}\n",
      "<Response [200]>\n",
      "{'Header': {'Name': 'Datos compactos BIE', 'Email': 'atencion.usuarios@inegi.org.mx'}, 'Series': [{'INDICADOR': '444857', 'FREQ': '8', 'TOPIC': '1010003500650450', 'UNIT': '136', 'NOTE': '2876', 'SOURCE': '69', 'LASTUPDATE': '26/06/2019 03:17:47 p. m.', 'OBSERVATIONS': [{'TIME_PERIOD': '2005/03', 'OBS_VALUE': '2.166616585968', 'OBS_EXCEPTION': '', 'OBS_STATUS': '1', 'OBS_SOURCE': '69', 'OBS_NOTE': None, 'COBER_GEO': '00'}]}]}\n",
      "<Response [200]>\n",
      "{'Header': {'Name': 'Datos compactos BIE', 'Email': 'atencion.usuarios@inegi.org.mx'}, 'Series': [{'INDICADOR': '444858', 'FREQ': '8', 'TOPIC': '1010003500650470', 'UNIT': '136', 'NOTE': '2876', 'SOURCE': '69', 'LASTUPDATE': '26/06/2019 03:17:47 p. m.', 'OBSERVATIONS': [{'TIME_PERIOD': '2005/03', 'OBS_VALUE': '2.692414280546', 'OBS_EXCEPTION': '', 'OBS_STATUS': '1', 'OBS_SOURCE': '69', 'OBS_NOTE': None, 'COBER_GEO': '00'}]}]}\n",
      "<Response [200]>\n",
      "{'Header': {'Name': 'Datos compactos BIE', 'Email': 'atencion.usuarios@inegi.org.mx'}, 'Series': [{'INDICADOR': '444859', 'FREQ': '8', 'TOPIC': '1010003500650490', 'UNIT': '136', 'NOTE': '2876', 'SOURCE': '69', 'LASTUPDATE': '26/06/2019 03:17:47 p. m.', 'OBSERVATIONS': [{'TIME_PERIOD': '2005/03', 'OBS_VALUE': '2.439208021689', 'OBS_EXCEPTION': '', 'OBS_STATUS': '1', 'OBS_SOURCE': '69', 'OBS_NOTE': None, 'COBER_GEO': '00'}]}]}\n",
      "<Response [200]>\n",
      "{'Header': {'Name': 'Datos compactos BIE', 'Email': 'atencion.usuarios@inegi.org.mx'}, 'Series': [{'INDICADOR': '444860', 'FREQ': '8', 'TOPIC': '1010003500650510', 'UNIT': '136', 'NOTE': '2876', 'SOURCE': '69', 'LASTUPDATE': '26/06/2019 03:17:47 p. m.', 'OBSERVATIONS': [{'TIME_PERIOD': '2005/03', 'OBS_VALUE': '5.442728317354', 'OBS_EXCEPTION': '', 'OBS_STATUS': '1', 'OBS_SOURCE': '69', 'OBS_NOTE': None, 'COBER_GEO': '00'}]}]}\n"
     ]
    },
    {
     "name": "stdout",
     "output_type": "stream",
     "text": [
      "<Response [200]>\n",
      "{'Header': {'Name': 'Datos compactos BIE', 'Email': 'atencion.usuarios@inegi.org.mx'}, 'Series': [{'INDICADOR': '444861', 'FREQ': '8', 'TOPIC': '1010003500650530', 'UNIT': '136', 'NOTE': '2876', 'SOURCE': '69', 'LASTUPDATE': '26/06/2019 03:17:47 p. m.', 'OBSERVATIONS': [{'TIME_PERIOD': '2005/03', 'OBS_VALUE': '1.879364959683', 'OBS_EXCEPTION': '', 'OBS_STATUS': '1', 'OBS_SOURCE': '69', 'OBS_NOTE': None, 'COBER_GEO': '00'}]}]}\n",
      "<Response [200]>\n",
      "{'Header': {'Name': 'Datos compactos BIE', 'Email': 'atencion.usuarios@inegi.org.mx'}, 'Series': [{'INDICADOR': '444862', 'FREQ': '8', 'TOPIC': '1010003500650550', 'UNIT': '136', 'NOTE': '2876', 'SOURCE': '69', 'LASTUPDATE': '26/06/2019 03:17:47 p. m.', 'OBSERVATIONS': [{'TIME_PERIOD': '2005/03', 'OBS_VALUE': '3.401807836003', 'OBS_EXCEPTION': '', 'OBS_STATUS': '1', 'OBS_SOURCE': '69', 'OBS_NOTE': None, 'COBER_GEO': '00'}]}]}\n",
      "<Response [200]>\n",
      "{'Header': {'Name': 'Datos compactos BIE', 'Email': 'atencion.usuarios@inegi.org.mx'}, 'Series': [{'INDICADOR': '444863', 'FREQ': '8', 'TOPIC': '1010003500650570', 'UNIT': '136', 'NOTE': '2876', 'SOURCE': '69', 'LASTUPDATE': '26/06/2019 03:17:47 p. m.', 'OBSERVATIONS': [{'TIME_PERIOD': '2005/03', 'OBS_VALUE': '3.967449259524', 'OBS_EXCEPTION': '', 'OBS_STATUS': '1', 'OBS_SOURCE': '69', 'OBS_NOTE': None, 'COBER_GEO': '00'}]}]}\n",
      "<Response [200]>\n",
      "{'Header': {'Name': 'Datos compactos BIE', 'Email': 'atencion.usuarios@inegi.org.mx'}, 'Series': [{'INDICADOR': '444864', 'FREQ': '8', 'TOPIC': '1010003500650590', 'UNIT': '136', 'NOTE': '2876', 'SOURCE': '69', 'LASTUPDATE': '26/06/2019 03:17:47 p. m.', 'OBSERVATIONS': [{'TIME_PERIOD': '2005/03', 'OBS_VALUE': '2.776826821475', 'OBS_EXCEPTION': '', 'OBS_STATUS': '1', 'OBS_SOURCE': '69', 'OBS_NOTE': None, 'COBER_GEO': '00'}]}]}\n",
      "<Response [200]>\n",
      "{'Header': {'Name': 'Datos compactos BIE', 'Email': 'atencion.usuarios@inegi.org.mx'}, 'Series': [{'INDICADOR': '444865', 'FREQ': '8', 'TOPIC': '1010003500650610', 'UNIT': '136', 'NOTE': '2876', 'SOURCE': '69', 'LASTUPDATE': '26/06/2019 03:17:47 p. m.', 'OBSERVATIONS': [{'TIME_PERIOD': '2005/03', 'OBS_VALUE': '3.222701097219', 'OBS_EXCEPTION': '', 'OBS_STATUS': '1', 'OBS_SOURCE': '69', 'OBS_NOTE': None, 'COBER_GEO': '00'}]}]}\n",
      "<Response [200]>\n",
      "{'Header': {'Name': 'Datos compactos BIE', 'Email': 'atencion.usuarios@inegi.org.mx'}, 'Series': [{'INDICADOR': '444866', 'FREQ': '8', 'TOPIC': '1010003500650630', 'UNIT': '136', 'NOTE': '2876', 'SOURCE': '69', 'LASTUPDATE': '26/06/2019 03:17:47 p. m.', 'OBSERVATIONS': [{'TIME_PERIOD': '2005/03', 'OBS_VALUE': '3.095860008444', 'OBS_EXCEPTION': '', 'OBS_STATUS': '1', 'OBS_SOURCE': '69', 'OBS_NOTE': None, 'COBER_GEO': '00'}]}]}\n",
      "<Response [200]>\n",
      "{'Header': {'Name': 'Datos compactos BIE', 'Email': 'atencion.usuarios@inegi.org.mx'}, 'Series': [{'INDICADOR': '444867', 'FREQ': '8', 'TOPIC': '1010003500650650', 'UNIT': '136', 'NOTE': '2876', 'SOURCE': '69', 'LASTUPDATE': '26/06/2019 03:17:47 p. m.', 'OBSERVATIONS': [{'TIME_PERIOD': '2005/03', 'OBS_VALUE': '3.609367456611', 'OBS_EXCEPTION': '', 'OBS_STATUS': '1', 'OBS_SOURCE': '69', 'OBS_NOTE': None, 'COBER_GEO': '00'}]}]}\n",
      "<Response [200]>\n",
      "{'Header': {'Name': 'Datos compactos BIE', 'Email': 'atencion.usuarios@inegi.org.mx'}, 'Series': [{'INDICADOR': '444868', 'FREQ': '8', 'TOPIC': '1010003500650670', 'UNIT': '136', 'NOTE': '2876', 'SOURCE': '69', 'LASTUPDATE': '26/06/2019 03:17:47 p. m.', 'OBSERVATIONS': [{'TIME_PERIOD': '2005/03', 'OBS_VALUE': '3.643357280177', 'OBS_EXCEPTION': '', 'OBS_STATUS': '1', 'OBS_SOURCE': '69', 'OBS_NOTE': None, 'COBER_GEO': '00'}]}]}\n",
      "<Response [200]>\n",
      "{'Header': {'Name': 'Datos compactos BIE', 'Email': 'atencion.usuarios@inegi.org.mx'}, 'Series': [{'INDICADOR': '444869', 'FREQ': '8', 'TOPIC': '1010003500650690', 'UNIT': '136', 'NOTE': '2876', 'SOURCE': '69', 'LASTUPDATE': '26/06/2019 03:17:47 p. m.', 'OBSERVATIONS': [{'TIME_PERIOD': '2005/03', 'OBS_VALUE': '5.231977809981', 'OBS_EXCEPTION': '', 'OBS_STATUS': '1', 'OBS_SOURCE': '69', 'OBS_NOTE': None, 'COBER_GEO': '00'}]}]}\n",
      "<Response [200]>\n",
      "{'Header': {'Name': 'Datos compactos BIE', 'Email': 'atencion.usuarios@inegi.org.mx'}, 'Series': [{'INDICADOR': '444870', 'FREQ': '8', 'TOPIC': '1010003500650710', 'UNIT': '136', 'NOTE': '2876', 'SOURCE': '69', 'LASTUPDATE': '26/06/2019 03:17:47 p. m.', 'OBSERVATIONS': [{'TIME_PERIOD': '2005/03', 'OBS_VALUE': '3.861340075632', 'OBS_EXCEPTION': '', 'OBS_STATUS': '1', 'OBS_SOURCE': '69', 'OBS_NOTE': None, 'COBER_GEO': '00'}]}]}\n",
      "<Response [200]>\n",
      "{'Header': {'Name': 'Datos compactos BIE', 'Email': 'atencion.usuarios@inegi.org.mx'}, 'Series': [{'INDICADOR': '444871', 'FREQ': '8', 'TOPIC': '1010003500650730', 'UNIT': '136', 'NOTE': '2876', 'SOURCE': '69', 'LASTUPDATE': '26/06/2019 03:17:47 p. m.', 'OBSERVATIONS': [{'TIME_PERIOD': '2005/03', 'OBS_VALUE': '3.274263947938', 'OBS_EXCEPTION': '', 'OBS_STATUS': '1', 'OBS_SOURCE': '69', 'OBS_NOTE': None, 'COBER_GEO': '00'}]}]}\n",
      "<Response [200]>\n",
      "{'Header': {'Name': 'Datos compactos BIE', 'Email': 'atencion.usuarios@inegi.org.mx'}, 'Series': [{'INDICADOR': '444872', 'FREQ': '8', 'TOPIC': '1010003500650750', 'UNIT': '136', 'NOTE': '2876', 'SOURCE': '69', 'LASTUPDATE': '26/06/2019 03:17:47 p. m.', 'OBSERVATIONS': [{'TIME_PERIOD': '2005/03', 'OBS_VALUE': '2.587656876138', 'OBS_EXCEPTION': '', 'OBS_STATUS': '1', 'OBS_SOURCE': '69', 'OBS_NOTE': None, 'COBER_GEO': '00'}]}]}\n",
      "<Response [200]>\n",
      "{'Header': {'Name': 'Datos compactos BIE', 'Email': 'atencion.usuarios@inegi.org.mx'}, 'Series': [{'INDICADOR': '444873', 'FREQ': '8', 'TOPIC': '1010003500650770', 'UNIT': '136', 'NOTE': '2876', 'SOURCE': '69', 'LASTUPDATE': '26/06/2019 03:17:47 p. m.', 'OBSERVATIONS': [{'TIME_PERIOD': '2005/03', 'OBS_VALUE': '3.09475575913', 'OBS_EXCEPTION': '', 'OBS_STATUS': '1', 'OBS_SOURCE': '69', 'OBS_NOTE': None, 'COBER_GEO': '00'}]}]}\n"
     ]
    }
   ],
   "source": [
    "for i in range(32):\n",
    "    x=i+444842\n",
    "    url2 =(f\"https://www.inegi.org.mx/app/api/indicadores/desarrolladores/jsonxml/INDICATOR/{x}/es/00000/true/BIE/2.0/{key_INEGI}?type=json\")\n",
    "    response = requests.get(url2).json()\n",
    "    request=requests.get(url2)\n",
    "    print(request)\n",
    "    print (response)"
   ]
  },
  {
   "cell_type": "code",
   "execution_count": null,
   "metadata": {},
   "outputs": [],
   "source": []
  },
  {
   "cell_type": "code",
   "execution_count": null,
   "metadata": {},
   "outputs": [],
   "source": []
  }
 ],
 "metadata": {
  "anaconda-cloud": {},
  "kernel_info": {
   "name": "python3"
  },
  "kernelspec": {
   "display_name": "Python 3",
   "language": "python",
   "name": "python3"
  },
  "language_info": {
   "codemirror_mode": {
    "name": "ipython",
    "version": 3
   },
   "file_extension": ".py",
   "mimetype": "text/x-python",
   "name": "python",
   "nbconvert_exporter": "python",
   "pygments_lexer": "ipython3",
   "version": "3.7.3"
  },
  "nteract": {
   "version": "0.12.3"
  }
 },
 "nbformat": 4,
 "nbformat_minor": 2
}

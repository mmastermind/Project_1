{
 "cells": [
  {
   "cell_type": "code",
   "execution_count": 76,
   "metadata": {},
   "outputs": [
    {
     "data": {
      "text/html": [
       "<div>\n",
       "<style scoped>\n",
       "    .dataframe tbody tr th:only-of-type {\n",
       "        vertical-align: middle;\n",
       "    }\n",
       "\n",
       "    .dataframe tbody tr th {\n",
       "        vertical-align: top;\n",
       "    }\n",
       "\n",
       "    .dataframe thead th {\n",
       "        text-align: right;\n",
       "    }\n",
       "</style>\n",
       "<table border=\"1\" class=\"dataframe\">\n",
       "  <thead>\n",
       "    <tr style=\"text-align: right;\">\n",
       "      <th></th>\n",
       "      <th>key</th>\n",
       "      <th>vsm_actual_x</th>\n",
       "      <th>SaldoInsolutoActual_x</th>\n",
       "      <th>PagosVencidosMeses_x</th>\n",
       "      <th>vsm_actual_y</th>\n",
       "      <th>SaldoInsolutoActual_y</th>\n",
       "      <th>PagosVencidosMeses_y</th>\n",
       "      <th>estado</th>\n",
       "    </tr>\n",
       "  </thead>\n",
       "  <tbody>\n",
       "    <tr>\n",
       "      <th>0</th>\n",
       "      <td>0</td>\n",
       "      <td>2686.144</td>\n",
       "      <td>204.43</td>\n",
       "      <td>0</td>\n",
       "      <td>2686.144</td>\n",
       "      <td>203.19</td>\n",
       "      <td>0</td>\n",
       "      <td>Jalisco</td>\n",
       "    </tr>\n",
       "    <tr>\n",
       "      <th>1</th>\n",
       "      <td>1</td>\n",
       "      <td>2686.144</td>\n",
       "      <td>42.63</td>\n",
       "      <td>0</td>\n",
       "      <td>2686.144</td>\n",
       "      <td>42.78</td>\n",
       "      <td>0</td>\n",
       "      <td>Jalisco</td>\n",
       "    </tr>\n",
       "    <tr>\n",
       "      <th>2</th>\n",
       "      <td>2</td>\n",
       "      <td>2686.144</td>\n",
       "      <td>189.87</td>\n",
       "      <td>0</td>\n",
       "      <td>2686.144</td>\n",
       "      <td>190.63</td>\n",
       "      <td>0</td>\n",
       "      <td>Jalisco</td>\n",
       "    </tr>\n",
       "    <tr>\n",
       "      <th>3</th>\n",
       "      <td>3</td>\n",
       "      <td>2686.144</td>\n",
       "      <td>51.81</td>\n",
       "      <td>0</td>\n",
       "      <td>2686.144</td>\n",
       "      <td>52.00</td>\n",
       "      <td>0</td>\n",
       "      <td>Jalisco</td>\n",
       "    </tr>\n",
       "    <tr>\n",
       "      <th>4</th>\n",
       "      <td>4</td>\n",
       "      <td>2686.144</td>\n",
       "      <td>197.55</td>\n",
       "      <td>0</td>\n",
       "      <td>2686.144</td>\n",
       "      <td>194.85</td>\n",
       "      <td>0</td>\n",
       "      <td>Jalisco</td>\n",
       "    </tr>\n",
       "  </tbody>\n",
       "</table>\n",
       "</div>"
      ],
      "text/plain": [
       "   key  vsm_actual_x  SaldoInsolutoActual_x  PagosVencidosMeses_x  \\\n",
       "0    0      2686.144                 204.43                     0   \n",
       "1    1      2686.144                  42.63                     0   \n",
       "2    2      2686.144                 189.87                     0   \n",
       "3    3      2686.144                  51.81                     0   \n",
       "4    4      2686.144                 197.55                     0   \n",
       "\n",
       "   vsm_actual_y  SaldoInsolutoActual_y  PagosVencidosMeses_y   estado  \n",
       "0      2686.144                 203.19                     0  Jalisco  \n",
       "1      2686.144                  42.78                     0  Jalisco  \n",
       "2      2686.144                 190.63                     0  Jalisco  \n",
       "3      2686.144                  52.00                     0  Jalisco  \n",
       "4      2686.144                 194.85                     0  Jalisco  "
      ]
     },
     "execution_count": 76,
     "metadata": {},
     "output_type": "execute_result"
    }
   ],
   "source": [
    "%matplotlib inline\n",
    "import pandas as pd\n",
    "import scipy.stats as stats\n",
    "import numpy as np\n",
    "import matplotlib.pyplot as plt\n",
    "table = pd.read_csv('consolidado.csv')\n",
    "table.head()\n",
    "#vsm x =valor del salario minimo febrero\n",
    "#vsm y =valor del salario enero"
   ]
  },
  {
   "cell_type": "code",
   "execution_count": 77,
   "metadata": {},
   "outputs": [
    {
     "data": {
      "text/plain": [
       "Index(['key', 'vsm_actual_x', 'SaldoInsolutoActual_x', 'PagosVencidosMeses_x',\n",
       "       'vsm_actual_y', 'SaldoInsolutoActual_y', 'PagosVencidosMeses_y',\n",
       "       'estado'],\n",
       "      dtype='object')"
      ]
     },
     "execution_count": 77,
     "metadata": {},
     "output_type": "execute_result"
    }
   ],
   "source": [
    "table.columns\n"
   ]
  },
  {
   "cell_type": "code",
   "execution_count": 78,
   "metadata": {},
   "outputs": [
    {
     "data": {
      "text/html": [
       "<div>\n",
       "<style scoped>\n",
       "    .dataframe tbody tr th:only-of-type {\n",
       "        vertical-align: middle;\n",
       "    }\n",
       "\n",
       "    .dataframe tbody tr th {\n",
       "        vertical-align: top;\n",
       "    }\n",
       "\n",
       "    .dataframe thead th {\n",
       "        text-align: right;\n",
       "    }\n",
       "</style>\n",
       "<table border=\"1\" class=\"dataframe\">\n",
       "  <thead>\n",
       "    <tr style=\"text-align: right;\">\n",
       "      <th></th>\n",
       "      <th>key</th>\n",
       "      <th>vsm_enero</th>\n",
       "      <th>vsm_febrero</th>\n",
       "      <th>PagosVencidos_enero</th>\n",
       "      <th>PagosVencidos_febrero</th>\n",
       "      <th>RemainingDebt_enero</th>\n",
       "      <th>RemainingDebt_febrero</th>\n",
       "      <th>estado</th>\n",
       "    </tr>\n",
       "  </thead>\n",
       "  <tbody>\n",
       "    <tr>\n",
       "      <th>0</th>\n",
       "      <td>0</td>\n",
       "      <td>2686.144</td>\n",
       "      <td>2686.144</td>\n",
       "      <td>0</td>\n",
       "      <td>0</td>\n",
       "      <td>203.19</td>\n",
       "      <td>204.43</td>\n",
       "      <td>Jalisco</td>\n",
       "    </tr>\n",
       "    <tr>\n",
       "      <th>1</th>\n",
       "      <td>1</td>\n",
       "      <td>2686.144</td>\n",
       "      <td>2686.144</td>\n",
       "      <td>0</td>\n",
       "      <td>0</td>\n",
       "      <td>42.78</td>\n",
       "      <td>42.63</td>\n",
       "      <td>Jalisco</td>\n",
       "    </tr>\n",
       "    <tr>\n",
       "      <th>2</th>\n",
       "      <td>2</td>\n",
       "      <td>2686.144</td>\n",
       "      <td>2686.144</td>\n",
       "      <td>0</td>\n",
       "      <td>0</td>\n",
       "      <td>190.63</td>\n",
       "      <td>189.87</td>\n",
       "      <td>Jalisco</td>\n",
       "    </tr>\n",
       "    <tr>\n",
       "      <th>3</th>\n",
       "      <td>3</td>\n",
       "      <td>2686.144</td>\n",
       "      <td>2686.144</td>\n",
       "      <td>0</td>\n",
       "      <td>0</td>\n",
       "      <td>52.00</td>\n",
       "      <td>51.81</td>\n",
       "      <td>Jalisco</td>\n",
       "    </tr>\n",
       "    <tr>\n",
       "      <th>4</th>\n",
       "      <td>4</td>\n",
       "      <td>2686.144</td>\n",
       "      <td>2686.144</td>\n",
       "      <td>0</td>\n",
       "      <td>0</td>\n",
       "      <td>194.85</td>\n",
       "      <td>197.55</td>\n",
       "      <td>Jalisco</td>\n",
       "    </tr>\n",
       "  </tbody>\n",
       "</table>\n",
       "</div>"
      ],
      "text/plain": [
       "   key  vsm_enero  vsm_febrero  PagosVencidos_enero  PagosVencidos_febrero  \\\n",
       "0    0   2686.144     2686.144                    0                      0   \n",
       "1    1   2686.144     2686.144                    0                      0   \n",
       "2    2   2686.144     2686.144                    0                      0   \n",
       "3    3   2686.144     2686.144                    0                      0   \n",
       "4    4   2686.144     2686.144                    0                      0   \n",
       "\n",
       "   RemainingDebt_enero  RemainingDebt_febrero   estado  \n",
       "0               203.19                 204.43  Jalisco  \n",
       "1                42.78                  42.63  Jalisco  \n",
       "2               190.63                 189.87  Jalisco  \n",
       "3                52.00                  51.81  Jalisco  \n",
       "4               194.85                 197.55  Jalisco  "
      ]
     },
     "execution_count": 78,
     "metadata": {},
     "output_type": "execute_result"
    }
   ],
   "source": [
    "table[\"vsm_enero\"] = table[\"vsm_actual_y\"]\n",
    "table[\"vsm_febrero\"] = table[\"vsm_actual_x\"]\n",
    "table[\"PagosVencidos_enero\"] = table[\"PagosVencidosMeses_y\"]\n",
    "table[\"PagosVencidos_febrero\"] = table[\"PagosVencidosMeses_x\"]\n",
    "table[\"RemainingDebt_enero\"] = table[\"SaldoInsolutoActual_y\"]\n",
    "table[\"RemainingDebt_febrero\"] = table[\"SaldoInsolutoActual_x\"]\n",
    "\n",
    "Table = table[[\"key\", \"vsm_enero\", \"vsm_febrero\", \"PagosVencidos_enero\", \"PagosVencidos_febrero\", \"RemainingDebt_enero\", \"RemainingDebt_febrero\", \"estado\"]]\n",
    "Table.head()\n"
   ]
  },
  {
   "cell_type": "code",
   "execution_count": 79,
   "metadata": {},
   "outputs": [],
   "source": [
    "Estados = Table[\"estado\"].value_counts()\n",
    "#print(Estados)\n",
    "#print(len(Estados))"
   ]
  },
  {
   "cell_type": "code",
   "execution_count": 80,
   "metadata": {},
   "outputs": [
    {
     "data": {
      "text/plain": [
       "0    16856\n",
       "1     1289\n",
       "2      248\n",
       "3       53\n",
       "Name: PagosVencidos_enero, dtype: int64"
      ]
     },
     "execution_count": 80,
     "metadata": {},
     "output_type": "execute_result"
    }
   ],
   "source": [
    "Table[\"PagosVencidos_enero\"].value_counts()"
   ]
  },
  {
   "cell_type": "code",
   "execution_count": 81,
   "metadata": {},
   "outputs": [
    {
     "data": {
      "text/plain": [
       "0    16509\n",
       "1     1490\n",
       "2      344\n",
       "3       72\n",
       "4       31\n",
       "Name: PagosVencidos_febrero, dtype: int64"
      ]
     },
     "execution_count": 81,
     "metadata": {},
     "output_type": "execute_result"
    }
   ],
   "source": [
    "Table[\"PagosVencidos_febrero\"].value_counts()"
   ]
  },
  {
   "cell_type": "code",
   "execution_count": 82,
   "metadata": {},
   "outputs": [
    {
     "data": {
      "text/plain": [
       " 0    16636\n",
       "-1     1223\n",
       " 1      535\n",
       " 2       42\n",
       " 3       10\n",
       "dtype: int64"
      ]
     },
     "execution_count": 82,
     "metadata": {},
     "output_type": "execute_result"
    }
   ],
   "source": [
    "PagosVencidos_dos = Table[\"PagosVencidos_enero\"] - Table[\"PagosVencidos_febrero\"]\n",
    "PagosVencidos_dos.value_counts()"
   ]
  },
  {
   "cell_type": "code",
   "execution_count": 83,
   "metadata": {},
   "outputs": [
    {
     "data": {
      "text/html": [
       "<div>\n",
       "<style scoped>\n",
       "    .dataframe tbody tr th:only-of-type {\n",
       "        vertical-align: middle;\n",
       "    }\n",
       "\n",
       "    .dataframe tbody tr th {\n",
       "        vertical-align: top;\n",
       "    }\n",
       "\n",
       "    .dataframe thead th {\n",
       "        text-align: right;\n",
       "    }\n",
       "</style>\n",
       "<table border=\"1\" class=\"dataframe\">\n",
       "  <thead>\n",
       "    <tr style=\"text-align: right;\">\n",
       "      <th></th>\n",
       "      <th>key</th>\n",
       "      <th>vsm_enero</th>\n",
       "      <th>vsm_febrero</th>\n",
       "      <th>PagosVencidos_enero</th>\n",
       "      <th>PagosVencidos_febrero</th>\n",
       "      <th>RemainingDebt_enero</th>\n",
       "      <th>RemainingDebt_febrero</th>\n",
       "      <th>estado</th>\n",
       "    </tr>\n",
       "  </thead>\n",
       "  <tbody>\n",
       "    <tr>\n",
       "      <th>0</th>\n",
       "      <td>0</td>\n",
       "      <td>2686.144</td>\n",
       "      <td>2686.144</td>\n",
       "      <td>0</td>\n",
       "      <td>0</td>\n",
       "      <td>203.19</td>\n",
       "      <td>204.43</td>\n",
       "      <td>Jalisco</td>\n",
       "    </tr>\n",
       "    <tr>\n",
       "      <th>1</th>\n",
       "      <td>1</td>\n",
       "      <td>2686.144</td>\n",
       "      <td>2686.144</td>\n",
       "      <td>0</td>\n",
       "      <td>0</td>\n",
       "      <td>42.78</td>\n",
       "      <td>42.63</td>\n",
       "      <td>Jalisco</td>\n",
       "    </tr>\n",
       "    <tr>\n",
       "      <th>2</th>\n",
       "      <td>2</td>\n",
       "      <td>2686.144</td>\n",
       "      <td>2686.144</td>\n",
       "      <td>0</td>\n",
       "      <td>0</td>\n",
       "      <td>190.63</td>\n",
       "      <td>189.87</td>\n",
       "      <td>Jalisco</td>\n",
       "    </tr>\n",
       "    <tr>\n",
       "      <th>3</th>\n",
       "      <td>3</td>\n",
       "      <td>2686.144</td>\n",
       "      <td>2686.144</td>\n",
       "      <td>0</td>\n",
       "      <td>0</td>\n",
       "      <td>52.00</td>\n",
       "      <td>51.81</td>\n",
       "      <td>Jalisco</td>\n",
       "    </tr>\n",
       "    <tr>\n",
       "      <th>4</th>\n",
       "      <td>4</td>\n",
       "      <td>2686.144</td>\n",
       "      <td>2686.144</td>\n",
       "      <td>0</td>\n",
       "      <td>0</td>\n",
       "      <td>194.85</td>\n",
       "      <td>197.55</td>\n",
       "      <td>Jalisco</td>\n",
       "    </tr>\n",
       "  </tbody>\n",
       "</table>\n",
       "</div>"
      ],
      "text/plain": [
       "   key  vsm_enero  vsm_febrero  PagosVencidos_enero  PagosVencidos_febrero  \\\n",
       "0    0   2686.144     2686.144                    0                      0   \n",
       "1    1   2686.144     2686.144                    0                      0   \n",
       "2    2   2686.144     2686.144                    0                      0   \n",
       "3    3   2686.144     2686.144                    0                      0   \n",
       "4    4   2686.144     2686.144                    0                      0   \n",
       "\n",
       "   RemainingDebt_enero  RemainingDebt_febrero   estado  \n",
       "0               203.19                 204.43  Jalisco  \n",
       "1                42.78                  42.63  Jalisco  \n",
       "2               190.63                 189.87  Jalisco  \n",
       "3                52.00                  51.81  Jalisco  \n",
       "4               194.85                 197.55  Jalisco  "
      ]
     },
     "execution_count": 83,
     "metadata": {},
     "output_type": "execute_result"
    }
   ],
   "source": [
    "Table.head()"
   ]
  },
  {
   "cell_type": "code",
   "execution_count": 84,
   "metadata": {},
   "outputs": [
    {
     "name": "stderr",
     "output_type": "stream",
     "text": [
      "C:\\Users\\justi\\Anaconda3\\envs\\PythonData\\lib\\site-packages\\ipykernel_launcher.py:1: SettingWithCopyWarning: \n",
      "A value is trying to be set on a copy of a slice from a DataFrame.\n",
      "Try using .loc[row_indexer,col_indexer] = value instead\n",
      "\n",
      "See the caveats in the documentation: http://pandas.pydata.org/pandas-docs/stable/indexing.html#indexing-view-versus-copy\n",
      "  \"\"\"Entry point for launching an IPython kernel.\n",
      "C:\\Users\\justi\\Anaconda3\\envs\\PythonData\\lib\\site-packages\\ipykernel_launcher.py:2: SettingWithCopyWarning: \n",
      "A value is trying to be set on a copy of a slice from a DataFrame.\n",
      "Try using .loc[row_indexer,col_indexer] = value instead\n",
      "\n",
      "See the caveats in the documentation: http://pandas.pydata.org/pandas-docs/stable/indexing.html#indexing-view-versus-copy\n",
      "  \n",
      "C:\\Users\\justi\\Anaconda3\\envs\\PythonData\\lib\\site-packages\\ipykernel_launcher.py:3: SettingWithCopyWarning: \n",
      "A value is trying to be set on a copy of a slice from a DataFrame.\n",
      "Try using .loc[row_indexer,col_indexer] = value instead\n",
      "\n",
      "See the caveats in the documentation: http://pandas.pydata.org/pandas-docs/stable/indexing.html#indexing-view-versus-copy\n",
      "  This is separate from the ipykernel package so we can avoid doing imports until\n",
      "C:\\Users\\justi\\Anaconda3\\envs\\PythonData\\lib\\site-packages\\ipykernel_launcher.py:4: SettingWithCopyWarning: \n",
      "A value is trying to be set on a copy of a slice from a DataFrame.\n",
      "Try using .loc[row_indexer,col_indexer] = value instead\n",
      "\n",
      "See the caveats in the documentation: http://pandas.pydata.org/pandas-docs/stable/indexing.html#indexing-view-versus-copy\n",
      "  after removing the cwd from sys.path.\n"
     ]
    },
    {
     "data": {
      "text/html": [
       "<div>\n",
       "<style scoped>\n",
       "    .dataframe tbody tr th:only-of-type {\n",
       "        vertical-align: middle;\n",
       "    }\n",
       "\n",
       "    .dataframe tbody tr th {\n",
       "        vertical-align: top;\n",
       "    }\n",
       "\n",
       "    .dataframe thead th {\n",
       "        text-align: right;\n",
       "    }\n",
       "</style>\n",
       "<table border=\"1\" class=\"dataframe\">\n",
       "  <thead>\n",
       "    <tr style=\"text-align: right;\">\n",
       "      <th></th>\n",
       "      <th>key</th>\n",
       "      <th>vsm_enero</th>\n",
       "      <th>vsm_febrero</th>\n",
       "      <th>PagosVencidos_enero</th>\n",
       "      <th>PagosVencidos_febrero</th>\n",
       "      <th>RemainingDebt_enero</th>\n",
       "      <th>RemainingDebt_febrero</th>\n",
       "      <th>estado</th>\n",
       "      <th>saldo_pesosE</th>\n",
       "      <th>saldo_pesosF</th>\n",
       "      <th>DueDaysE</th>\n",
       "      <th>DueDaysF</th>\n",
       "    </tr>\n",
       "  </thead>\n",
       "  <tbody>\n",
       "    <tr>\n",
       "      <th>0</th>\n",
       "      <td>0</td>\n",
       "      <td>2686.144</td>\n",
       "      <td>2686.144</td>\n",
       "      <td>0</td>\n",
       "      <td>0</td>\n",
       "      <td>203.19</td>\n",
       "      <td>204.43</td>\n",
       "      <td>Jalisco</td>\n",
       "      <td>545797.59936</td>\n",
       "      <td>549128.41792</td>\n",
       "      <td>0</td>\n",
       "      <td>0</td>\n",
       "    </tr>\n",
       "    <tr>\n",
       "      <th>1</th>\n",
       "      <td>1</td>\n",
       "      <td>2686.144</td>\n",
       "      <td>2686.144</td>\n",
       "      <td>0</td>\n",
       "      <td>0</td>\n",
       "      <td>42.78</td>\n",
       "      <td>42.63</td>\n",
       "      <td>Jalisco</td>\n",
       "      <td>114913.24032</td>\n",
       "      <td>114510.31872</td>\n",
       "      <td>0</td>\n",
       "      <td>0</td>\n",
       "    </tr>\n",
       "    <tr>\n",
       "      <th>2</th>\n",
       "      <td>2</td>\n",
       "      <td>2686.144</td>\n",
       "      <td>2686.144</td>\n",
       "      <td>0</td>\n",
       "      <td>0</td>\n",
       "      <td>190.63</td>\n",
       "      <td>189.87</td>\n",
       "      <td>Jalisco</td>\n",
       "      <td>512059.63072</td>\n",
       "      <td>510018.16128</td>\n",
       "      <td>0</td>\n",
       "      <td>0</td>\n",
       "    </tr>\n",
       "    <tr>\n",
       "      <th>3</th>\n",
       "      <td>3</td>\n",
       "      <td>2686.144</td>\n",
       "      <td>2686.144</td>\n",
       "      <td>0</td>\n",
       "      <td>0</td>\n",
       "      <td>52.00</td>\n",
       "      <td>51.81</td>\n",
       "      <td>Jalisco</td>\n",
       "      <td>139679.48800</td>\n",
       "      <td>139169.12064</td>\n",
       "      <td>0</td>\n",
       "      <td>0</td>\n",
       "    </tr>\n",
       "    <tr>\n",
       "      <th>4</th>\n",
       "      <td>4</td>\n",
       "      <td>2686.144</td>\n",
       "      <td>2686.144</td>\n",
       "      <td>0</td>\n",
       "      <td>0</td>\n",
       "      <td>194.85</td>\n",
       "      <td>197.55</td>\n",
       "      <td>Jalisco</td>\n",
       "      <td>523395.15840</td>\n",
       "      <td>530647.74720</td>\n",
       "      <td>0</td>\n",
       "      <td>0</td>\n",
       "    </tr>\n",
       "  </tbody>\n",
       "</table>\n",
       "</div>"
      ],
      "text/plain": [
       "   key  vsm_enero  vsm_febrero  PagosVencidos_enero  PagosVencidos_febrero  \\\n",
       "0    0   2686.144     2686.144                    0                      0   \n",
       "1    1   2686.144     2686.144                    0                      0   \n",
       "2    2   2686.144     2686.144                    0                      0   \n",
       "3    3   2686.144     2686.144                    0                      0   \n",
       "4    4   2686.144     2686.144                    0                      0   \n",
       "\n",
       "   RemainingDebt_enero  RemainingDebt_febrero   estado  saldo_pesosE  \\\n",
       "0               203.19                 204.43  Jalisco  545797.59936   \n",
       "1                42.78                  42.63  Jalisco  114913.24032   \n",
       "2               190.63                 189.87  Jalisco  512059.63072   \n",
       "3                52.00                  51.81  Jalisco  139679.48800   \n",
       "4               194.85                 197.55  Jalisco  523395.15840   \n",
       "\n",
       "   saldo_pesosF  DueDaysE  DueDaysF  \n",
       "0  549128.41792         0         0  \n",
       "1  114510.31872         0         0  \n",
       "2  510018.16128         0         0  \n",
       "3  139169.12064         0         0  \n",
       "4  530647.74720         0         0  "
      ]
     },
     "execution_count": 84,
     "metadata": {},
     "output_type": "execute_result"
    }
   ],
   "source": [
    "Table[\"saldo_pesosE\"] = Table[\"vsm_enero\"]*Table[\"RemainingDebt_enero\"]\n",
    "Table[\"saldo_pesosF\"] = Table[\"vsm_febrero\"]*Table[\"RemainingDebt_febrero\"]\n",
    "Table[\"DueDaysE\"] = Table[\"PagosVencidos_enero\"]*30\n",
    "Table[\"DueDaysF\"] = Table[\"PagosVencidos_febrero\"]*30\n",
    "Table.head()"
   ]
  },
  {
   "cell_type": "code",
   "execution_count": 85,
   "metadata": {},
   "outputs": [
    {
     "data": {
      "text/plain": [
       "0     16856\n",
       "30     1289\n",
       "60      248\n",
       "90       53\n",
       "Name: DueDaysE, dtype: int64"
      ]
     },
     "execution_count": 85,
     "metadata": {},
     "output_type": "execute_result"
    }
   ],
   "source": [
    "Table[\"DueDaysE\"].value_counts()"
   ]
  },
  {
   "cell_type": "code",
   "execution_count": 86,
   "metadata": {},
   "outputs": [
    {
     "data": {
      "text/plain": [
       "0      16509\n",
       "30      1490\n",
       "60       344\n",
       "90        72\n",
       "120       31\n",
       "Name: DueDaysF, dtype: int64"
      ]
     },
     "execution_count": 86,
     "metadata": {},
     "output_type": "execute_result"
    }
   ],
   "source": [
    "Table[\"DueDaysF\"].value_counts()"
   ]
  },
  {
   "cell_type": "code",
   "execution_count": 87,
   "metadata": {},
   "outputs": [
    {
     "data": {
      "text/plain": [
       "18446"
      ]
     },
     "execution_count": 87,
     "metadata": {},
     "output_type": "execute_result"
    }
   ],
   "source": [
    "len(Table)"
   ]
  },
  {
   "cell_type": "code",
   "execution_count": 88,
   "metadata": {},
   "outputs": [
    {
     "name": "stderr",
     "output_type": "stream",
     "text": [
      "C:\\Users\\justi\\Anaconda3\\envs\\PythonData\\lib\\site-packages\\ipykernel_launcher.py:2: SettingWithCopyWarning: \n",
      "A value is trying to be set on a copy of a slice from a DataFrame.\n",
      "Try using .loc[row_indexer,col_indexer] = value instead\n",
      "\n",
      "See the caveats in the documentation: http://pandas.pydata.org/pandas-docs/stable/indexing.html#indexing-view-versus-copy\n",
      "  \n"
     ]
    },
    {
     "data": {
      "text/html": [
       "<div>\n",
       "<style scoped>\n",
       "    .dataframe tbody tr th:only-of-type {\n",
       "        vertical-align: middle;\n",
       "    }\n",
       "\n",
       "    .dataframe tbody tr th {\n",
       "        vertical-align: top;\n",
       "    }\n",
       "\n",
       "    .dataframe thead th {\n",
       "        text-align: right;\n",
       "    }\n",
       "</style>\n",
       "<table border=\"1\" class=\"dataframe\">\n",
       "  <thead>\n",
       "    <tr style=\"text-align: right;\">\n",
       "      <th></th>\n",
       "      <th>key</th>\n",
       "      <th>vsm_enero</th>\n",
       "      <th>vsm_febrero</th>\n",
       "      <th>PagosVencidos_enero</th>\n",
       "      <th>PagosVencidos_febrero</th>\n",
       "      <th>RemainingDebt_enero</th>\n",
       "      <th>RemainingDebt_febrero</th>\n",
       "      <th>estado</th>\n",
       "      <th>saldo_pesosE</th>\n",
       "      <th>saldo_pesosF</th>\n",
       "      <th>DueDaysE</th>\n",
       "      <th>DueDaysF</th>\n",
       "      <th>Performance</th>\n",
       "    </tr>\n",
       "  </thead>\n",
       "  <tbody>\n",
       "    <tr>\n",
       "      <th>0</th>\n",
       "      <td>0</td>\n",
       "      <td>2686.144</td>\n",
       "      <td>2686.144</td>\n",
       "      <td>0</td>\n",
       "      <td>0</td>\n",
       "      <td>203.19</td>\n",
       "      <td>204.43</td>\n",
       "      <td>Jalisco</td>\n",
       "      <td>545797.59936</td>\n",
       "      <td>549128.41792</td>\n",
       "      <td>0</td>\n",
       "      <td>0</td>\n",
       "      <td>stay</td>\n",
       "    </tr>\n",
       "    <tr>\n",
       "      <th>1</th>\n",
       "      <td>1</td>\n",
       "      <td>2686.144</td>\n",
       "      <td>2686.144</td>\n",
       "      <td>0</td>\n",
       "      <td>0</td>\n",
       "      <td>42.78</td>\n",
       "      <td>42.63</td>\n",
       "      <td>Jalisco</td>\n",
       "      <td>114913.24032</td>\n",
       "      <td>114510.31872</td>\n",
       "      <td>0</td>\n",
       "      <td>0</td>\n",
       "      <td>stay</td>\n",
       "    </tr>\n",
       "    <tr>\n",
       "      <th>2</th>\n",
       "      <td>2</td>\n",
       "      <td>2686.144</td>\n",
       "      <td>2686.144</td>\n",
       "      <td>0</td>\n",
       "      <td>0</td>\n",
       "      <td>190.63</td>\n",
       "      <td>189.87</td>\n",
       "      <td>Jalisco</td>\n",
       "      <td>512059.63072</td>\n",
       "      <td>510018.16128</td>\n",
       "      <td>0</td>\n",
       "      <td>0</td>\n",
       "      <td>stay</td>\n",
       "    </tr>\n",
       "    <tr>\n",
       "      <th>3</th>\n",
       "      <td>3</td>\n",
       "      <td>2686.144</td>\n",
       "      <td>2686.144</td>\n",
       "      <td>0</td>\n",
       "      <td>0</td>\n",
       "      <td>52.00</td>\n",
       "      <td>51.81</td>\n",
       "      <td>Jalisco</td>\n",
       "      <td>139679.48800</td>\n",
       "      <td>139169.12064</td>\n",
       "      <td>0</td>\n",
       "      <td>0</td>\n",
       "      <td>stay</td>\n",
       "    </tr>\n",
       "    <tr>\n",
       "      <th>4</th>\n",
       "      <td>4</td>\n",
       "      <td>2686.144</td>\n",
       "      <td>2686.144</td>\n",
       "      <td>0</td>\n",
       "      <td>0</td>\n",
       "      <td>194.85</td>\n",
       "      <td>197.55</td>\n",
       "      <td>Jalisco</td>\n",
       "      <td>523395.15840</td>\n",
       "      <td>530647.74720</td>\n",
       "      <td>0</td>\n",
       "      <td>0</td>\n",
       "      <td>stay</td>\n",
       "    </tr>\n",
       "  </tbody>\n",
       "</table>\n",
       "</div>"
      ],
      "text/plain": [
       "   key  vsm_enero  vsm_febrero  PagosVencidos_enero  PagosVencidos_febrero  \\\n",
       "0    0   2686.144     2686.144                    0                      0   \n",
       "1    1   2686.144     2686.144                    0                      0   \n",
       "2    2   2686.144     2686.144                    0                      0   \n",
       "3    3   2686.144     2686.144                    0                      0   \n",
       "4    4   2686.144     2686.144                    0                      0   \n",
       "\n",
       "   RemainingDebt_enero  RemainingDebt_febrero   estado  saldo_pesosE  \\\n",
       "0               203.19                 204.43  Jalisco  545797.59936   \n",
       "1                42.78                  42.63  Jalisco  114913.24032   \n",
       "2               190.63                 189.87  Jalisco  512059.63072   \n",
       "3                52.00                  51.81  Jalisco  139679.48800   \n",
       "4               194.85                 197.55  Jalisco  523395.15840   \n",
       "\n",
       "   saldo_pesosF  DueDaysE  DueDaysF Performance  \n",
       "0  549128.41792         0         0        stay  \n",
       "1  114510.31872         0         0        stay  \n",
       "2  510018.16128         0         0        stay  \n",
       "3  139169.12064         0         0        stay  \n",
       "4  530647.74720         0         0        stay  "
      ]
     },
     "execution_count": 88,
     "metadata": {},
     "output_type": "execute_result"
    }
   ],
   "source": [
    "Performance_Stay = Table.loc[Table[\"DueDaysE\"] == Table[\"DueDaysF\"] , :]\n",
    "Performance_Stay[\"Performance\"] = \"stay\"\n",
    "Performance_Stay.head()\n",
    "#Performance_Stay.count()"
   ]
  },
  {
   "cell_type": "code",
   "execution_count": 89,
   "metadata": {},
   "outputs": [
    {
     "name": "stderr",
     "output_type": "stream",
     "text": [
      "C:\\Users\\justi\\Anaconda3\\envs\\PythonData\\lib\\site-packages\\ipykernel_launcher.py:2: SettingWithCopyWarning: \n",
      "A value is trying to be set on a copy of a slice from a DataFrame.\n",
      "Try using .loc[row_indexer,col_indexer] = value instead\n",
      "\n",
      "See the caveats in the documentation: http://pandas.pydata.org/pandas-docs/stable/indexing.html#indexing-view-versus-copy\n",
      "  \n"
     ]
    },
    {
     "data": {
      "text/html": [
       "<div>\n",
       "<style scoped>\n",
       "    .dataframe tbody tr th:only-of-type {\n",
       "        vertical-align: middle;\n",
       "    }\n",
       "\n",
       "    .dataframe tbody tr th {\n",
       "        vertical-align: top;\n",
       "    }\n",
       "\n",
       "    .dataframe thead th {\n",
       "        text-align: right;\n",
       "    }\n",
       "</style>\n",
       "<table border=\"1\" class=\"dataframe\">\n",
       "  <thead>\n",
       "    <tr style=\"text-align: right;\">\n",
       "      <th></th>\n",
       "      <th>key</th>\n",
       "      <th>vsm_enero</th>\n",
       "      <th>vsm_febrero</th>\n",
       "      <th>PagosVencidos_enero</th>\n",
       "      <th>PagosVencidos_febrero</th>\n",
       "      <th>RemainingDebt_enero</th>\n",
       "      <th>RemainingDebt_febrero</th>\n",
       "      <th>estado</th>\n",
       "      <th>saldo_pesosE</th>\n",
       "      <th>saldo_pesosF</th>\n",
       "      <th>DueDaysE</th>\n",
       "      <th>DueDaysF</th>\n",
       "      <th>Performance</th>\n",
       "    </tr>\n",
       "  </thead>\n",
       "  <tbody>\n",
       "    <tr>\n",
       "      <th>9</th>\n",
       "      <td>9</td>\n",
       "      <td>2686.144</td>\n",
       "      <td>2686.144</td>\n",
       "      <td>0</td>\n",
       "      <td>1</td>\n",
       "      <td>114.24</td>\n",
       "      <td>115.02</td>\n",
       "      <td>Jalisco</td>\n",
       "      <td>306865.09056</td>\n",
       "      <td>308960.28288</td>\n",
       "      <td>0</td>\n",
       "      <td>30</td>\n",
       "      <td>Rol</td>\n",
       "    </tr>\n",
       "    <tr>\n",
       "      <th>13</th>\n",
       "      <td>13</td>\n",
       "      <td>2686.144</td>\n",
       "      <td>2686.144</td>\n",
       "      <td>1</td>\n",
       "      <td>2</td>\n",
       "      <td>166.01</td>\n",
       "      <td>166.58</td>\n",
       "      <td>Jalisco</td>\n",
       "      <td>445926.76544</td>\n",
       "      <td>447457.86752</td>\n",
       "      <td>30</td>\n",
       "      <td>60</td>\n",
       "      <td>Rol</td>\n",
       "    </tr>\n",
       "    <tr>\n",
       "      <th>17</th>\n",
       "      <td>17</td>\n",
       "      <td>2686.144</td>\n",
       "      <td>2686.144</td>\n",
       "      <td>0</td>\n",
       "      <td>1</td>\n",
       "      <td>102.93</td>\n",
       "      <td>102.08</td>\n",
       "      <td>Jalisco</td>\n",
       "      <td>276484.80192</td>\n",
       "      <td>274201.57952</td>\n",
       "      <td>0</td>\n",
       "      <td>30</td>\n",
       "      <td>Rol</td>\n",
       "    </tr>\n",
       "    <tr>\n",
       "      <th>24</th>\n",
       "      <td>24</td>\n",
       "      <td>2686.144</td>\n",
       "      <td>2686.144</td>\n",
       "      <td>0</td>\n",
       "      <td>1</td>\n",
       "      <td>77.36</td>\n",
       "      <td>77.09</td>\n",
       "      <td>Jalisco</td>\n",
       "      <td>207800.09984</td>\n",
       "      <td>207074.84096</td>\n",
       "      <td>0</td>\n",
       "      <td>30</td>\n",
       "      <td>Rol</td>\n",
       "    </tr>\n",
       "    <tr>\n",
       "      <th>30</th>\n",
       "      <td>30</td>\n",
       "      <td>2686.144</td>\n",
       "      <td>2686.144</td>\n",
       "      <td>0</td>\n",
       "      <td>1</td>\n",
       "      <td>128.72</td>\n",
       "      <td>129.51</td>\n",
       "      <td>Jalisco</td>\n",
       "      <td>345760.45568</td>\n",
       "      <td>347882.50944</td>\n",
       "      <td>0</td>\n",
       "      <td>30</td>\n",
       "      <td>Rol</td>\n",
       "    </tr>\n",
       "  </tbody>\n",
       "</table>\n",
       "</div>"
      ],
      "text/plain": [
       "    key  vsm_enero  vsm_febrero  PagosVencidos_enero  PagosVencidos_febrero  \\\n",
       "9     9   2686.144     2686.144                    0                      1   \n",
       "13   13   2686.144     2686.144                    1                      2   \n",
       "17   17   2686.144     2686.144                    0                      1   \n",
       "24   24   2686.144     2686.144                    0                      1   \n",
       "30   30   2686.144     2686.144                    0                      1   \n",
       "\n",
       "    RemainingDebt_enero  RemainingDebt_febrero   estado  saldo_pesosE  \\\n",
       "9                114.24                 115.02  Jalisco  306865.09056   \n",
       "13               166.01                 166.58  Jalisco  445926.76544   \n",
       "17               102.93                 102.08  Jalisco  276484.80192   \n",
       "24                77.36                  77.09  Jalisco  207800.09984   \n",
       "30               128.72                 129.51  Jalisco  345760.45568   \n",
       "\n",
       "    saldo_pesosF  DueDaysE  DueDaysF Performance  \n",
       "9   308960.28288         0        30         Rol  \n",
       "13  447457.86752        30        60         Rol  \n",
       "17  274201.57952         0        30         Rol  \n",
       "24  207074.84096         0        30         Rol  \n",
       "30  347882.50944         0        30         Rol  "
      ]
     },
     "execution_count": 89,
     "metadata": {},
     "output_type": "execute_result"
    }
   ],
   "source": [
    "Performance_Rol = Table.loc[Table[\"DueDaysE\"] < Table[\"DueDaysF\"] , :]\n",
    "Performance_Rol[\"Performance\"] = \"Rol\"\n",
    "Performance_Rol.head()"
   ]
  },
  {
   "cell_type": "code",
   "execution_count": 90,
   "metadata": {},
   "outputs": [
    {
     "name": "stderr",
     "output_type": "stream",
     "text": [
      "C:\\Users\\justi\\Anaconda3\\envs\\PythonData\\lib\\site-packages\\ipykernel_launcher.py:2: SettingWithCopyWarning: \n",
      "A value is trying to be set on a copy of a slice from a DataFrame.\n",
      "Try using .loc[row_indexer,col_indexer] = value instead\n",
      "\n",
      "See the caveats in the documentation: http://pandas.pydata.org/pandas-docs/stable/indexing.html#indexing-view-versus-copy\n",
      "  \n"
     ]
    },
    {
     "data": {
      "text/html": [
       "<div>\n",
       "<style scoped>\n",
       "    .dataframe tbody tr th:only-of-type {\n",
       "        vertical-align: middle;\n",
       "    }\n",
       "\n",
       "    .dataframe tbody tr th {\n",
       "        vertical-align: top;\n",
       "    }\n",
       "\n",
       "    .dataframe thead th {\n",
       "        text-align: right;\n",
       "    }\n",
       "</style>\n",
       "<table border=\"1\" class=\"dataframe\">\n",
       "  <thead>\n",
       "    <tr style=\"text-align: right;\">\n",
       "      <th></th>\n",
       "      <th>key</th>\n",
       "      <th>vsm_enero</th>\n",
       "      <th>vsm_febrero</th>\n",
       "      <th>PagosVencidos_enero</th>\n",
       "      <th>PagosVencidos_febrero</th>\n",
       "      <th>RemainingDebt_enero</th>\n",
       "      <th>RemainingDebt_febrero</th>\n",
       "      <th>estado</th>\n",
       "      <th>saldo_pesosE</th>\n",
       "      <th>saldo_pesosF</th>\n",
       "      <th>DueDaysE</th>\n",
       "      <th>DueDaysF</th>\n",
       "      <th>Performance</th>\n",
       "    </tr>\n",
       "  </thead>\n",
       "  <tbody>\n",
       "    <tr>\n",
       "      <th>45</th>\n",
       "      <td>45</td>\n",
       "      <td>2686.144</td>\n",
       "      <td>2686.144</td>\n",
       "      <td>1</td>\n",
       "      <td>0</td>\n",
       "      <td>94.21</td>\n",
       "      <td>93.01</td>\n",
       "      <td>Jalisco</td>\n",
       "      <td>253061.62624</td>\n",
       "      <td>249838.25344</td>\n",
       "      <td>30</td>\n",
       "      <td>0</td>\n",
       "      <td>Cure</td>\n",
       "    </tr>\n",
       "    <tr>\n",
       "      <th>77</th>\n",
       "      <td>77</td>\n",
       "      <td>2686.144</td>\n",
       "      <td>2686.144</td>\n",
       "      <td>1</td>\n",
       "      <td>0</td>\n",
       "      <td>92.44</td>\n",
       "      <td>91.08</td>\n",
       "      <td>Jalisco</td>\n",
       "      <td>248307.15136</td>\n",
       "      <td>244653.99552</td>\n",
       "      <td>30</td>\n",
       "      <td>0</td>\n",
       "      <td>Cure</td>\n",
       "    </tr>\n",
       "    <tr>\n",
       "      <th>85</th>\n",
       "      <td>85</td>\n",
       "      <td>2686.144</td>\n",
       "      <td>2686.144</td>\n",
       "      <td>1</td>\n",
       "      <td>0</td>\n",
       "      <td>189.04</td>\n",
       "      <td>181.20</td>\n",
       "      <td>San Luis Potosi</td>\n",
       "      <td>507788.66176</td>\n",
       "      <td>486729.29280</td>\n",
       "      <td>30</td>\n",
       "      <td>0</td>\n",
       "      <td>Cure</td>\n",
       "    </tr>\n",
       "    <tr>\n",
       "      <th>211</th>\n",
       "      <td>211</td>\n",
       "      <td>2686.144</td>\n",
       "      <td>2686.144</td>\n",
       "      <td>1</td>\n",
       "      <td>0</td>\n",
       "      <td>127.18</td>\n",
       "      <td>123.16</td>\n",
       "      <td>San Luis Potosi</td>\n",
       "      <td>341623.79392</td>\n",
       "      <td>330825.49504</td>\n",
       "      <td>30</td>\n",
       "      <td>0</td>\n",
       "      <td>Cure</td>\n",
       "    </tr>\n",
       "    <tr>\n",
       "      <th>277</th>\n",
       "      <td>277</td>\n",
       "      <td>2686.144</td>\n",
       "      <td>2686.144</td>\n",
       "      <td>1</td>\n",
       "      <td>0</td>\n",
       "      <td>139.98</td>\n",
       "      <td>139.32</td>\n",
       "      <td>San Luis Potosi</td>\n",
       "      <td>376006.43712</td>\n",
       "      <td>374233.58208</td>\n",
       "      <td>30</td>\n",
       "      <td>0</td>\n",
       "      <td>Cure</td>\n",
       "    </tr>\n",
       "  </tbody>\n",
       "</table>\n",
       "</div>"
      ],
      "text/plain": [
       "     key  vsm_enero  vsm_febrero  PagosVencidos_enero  PagosVencidos_febrero  \\\n",
       "45    45   2686.144     2686.144                    1                      0   \n",
       "77    77   2686.144     2686.144                    1                      0   \n",
       "85    85   2686.144     2686.144                    1                      0   \n",
       "211  211   2686.144     2686.144                    1                      0   \n",
       "277  277   2686.144     2686.144                    1                      0   \n",
       "\n",
       "     RemainingDebt_enero  RemainingDebt_febrero           estado  \\\n",
       "45                 94.21                  93.01          Jalisco   \n",
       "77                 92.44                  91.08          Jalisco   \n",
       "85                189.04                 181.20  San Luis Potosi   \n",
       "211               127.18                 123.16  San Luis Potosi   \n",
       "277               139.98                 139.32  San Luis Potosi   \n",
       "\n",
       "     saldo_pesosE  saldo_pesosF  DueDaysE  DueDaysF Performance  \n",
       "45   253061.62624  249838.25344        30         0        Cure  \n",
       "77   248307.15136  244653.99552        30         0        Cure  \n",
       "85   507788.66176  486729.29280        30         0        Cure  \n",
       "211  341623.79392  330825.49504        30         0        Cure  \n",
       "277  376006.43712  374233.58208        30         0        Cure  "
      ]
     },
     "execution_count": 90,
     "metadata": {},
     "output_type": "execute_result"
    }
   ],
   "source": [
    "Performance_Cure = Table.loc[Table[\"DueDaysE\"] > Table[\"DueDaysF\"] , :]\n",
    "Performance_Cure[\"Performance\"] = \"Cure\"\n",
    "Performance_Cure.head()"
   ]
  },
  {
   "cell_type": "code",
   "execution_count": 91,
   "metadata": {},
   "outputs": [
    {
     "data": {
      "text/plain": [
       "18446"
      ]
     },
     "execution_count": 91,
     "metadata": {},
     "output_type": "execute_result"
    }
   ],
   "source": [
    "PerformanceT = [Performance_Stay, Performance_Rol, Performance_Cure]\n",
    "result = pd.concat(PerformanceT)\n",
    "result.head()\n",
    "len(result)"
   ]
  },
  {
   "cell_type": "code",
   "execution_count": 92,
   "metadata": {},
   "outputs": [
    {
     "data": {
      "text/plain": [
       "stay    16636\n",
       "Rol      1223\n",
       "Cure      587\n",
       "Name: Performance, dtype: int64"
      ]
     },
     "execution_count": 92,
     "metadata": {},
     "output_type": "execute_result"
    }
   ],
   "source": [
    "result[\"Performance\"].value_counts()"
   ]
  },
  {
   "cell_type": "code",
   "execution_count": 93,
   "metadata": {},
   "outputs": [
    {
     "name": "stderr",
     "output_type": "stream",
     "text": [
      "C:\\Users\\justi\\Anaconda3\\envs\\PythonData\\lib\\site-packages\\ipykernel_launcher.py:1: SettingWithCopyWarning: \n",
      "A value is trying to be set on a copy of a slice from a DataFrame.\n",
      "Try using .loc[row_indexer,col_indexer] = value instead\n",
      "\n",
      "See the caveats in the documentation: http://pandas.pydata.org/pandas-docs/stable/indexing.html#indexing-view-versus-copy\n",
      "  \"\"\"Entry point for launching an IPython kernel.\n"
     ]
    },
    {
     "data": {
      "text/html": [
       "<div>\n",
       "<style scoped>\n",
       "    .dataframe tbody tr th:only-of-type {\n",
       "        vertical-align: middle;\n",
       "    }\n",
       "\n",
       "    .dataframe tbody tr th {\n",
       "        vertical-align: top;\n",
       "    }\n",
       "\n",
       "    .dataframe thead th {\n",
       "        text-align: right;\n",
       "    }\n",
       "</style>\n",
       "<table border=\"1\" class=\"dataframe\">\n",
       "  <thead>\n",
       "    <tr style=\"text-align: right;\">\n",
       "      <th></th>\n",
       "      <th>key</th>\n",
       "      <th>vsm_enero</th>\n",
       "      <th>vsm_febrero</th>\n",
       "      <th>PagosVencidos_enero</th>\n",
       "      <th>PagosVencidos_febrero</th>\n",
       "      <th>RemainingDebt_enero</th>\n",
       "      <th>RemainingDebt_febrero</th>\n",
       "      <th>estado</th>\n",
       "      <th>saldo_pesosE</th>\n",
       "      <th>saldo_pesosF</th>\n",
       "      <th>DueDaysE</th>\n",
       "      <th>DueDaysF</th>\n",
       "      <th>jump</th>\n",
       "    </tr>\n",
       "  </thead>\n",
       "  <tbody>\n",
       "    <tr>\n",
       "      <th>0</th>\n",
       "      <td>0</td>\n",
       "      <td>2686.144</td>\n",
       "      <td>2686.144</td>\n",
       "      <td>0</td>\n",
       "      <td>0</td>\n",
       "      <td>203.19</td>\n",
       "      <td>204.43</td>\n",
       "      <td>Jalisco</td>\n",
       "      <td>545797.59936</td>\n",
       "      <td>549128.41792</td>\n",
       "      <td>0</td>\n",
       "      <td>0</td>\n",
       "      <td>0</td>\n",
       "    </tr>\n",
       "    <tr>\n",
       "      <th>1</th>\n",
       "      <td>1</td>\n",
       "      <td>2686.144</td>\n",
       "      <td>2686.144</td>\n",
       "      <td>0</td>\n",
       "      <td>0</td>\n",
       "      <td>42.78</td>\n",
       "      <td>42.63</td>\n",
       "      <td>Jalisco</td>\n",
       "      <td>114913.24032</td>\n",
       "      <td>114510.31872</td>\n",
       "      <td>0</td>\n",
       "      <td>0</td>\n",
       "      <td>0</td>\n",
       "    </tr>\n",
       "    <tr>\n",
       "      <th>2</th>\n",
       "      <td>2</td>\n",
       "      <td>2686.144</td>\n",
       "      <td>2686.144</td>\n",
       "      <td>0</td>\n",
       "      <td>0</td>\n",
       "      <td>190.63</td>\n",
       "      <td>189.87</td>\n",
       "      <td>Jalisco</td>\n",
       "      <td>512059.63072</td>\n",
       "      <td>510018.16128</td>\n",
       "      <td>0</td>\n",
       "      <td>0</td>\n",
       "      <td>0</td>\n",
       "    </tr>\n",
       "    <tr>\n",
       "      <th>3</th>\n",
       "      <td>3</td>\n",
       "      <td>2686.144</td>\n",
       "      <td>2686.144</td>\n",
       "      <td>0</td>\n",
       "      <td>0</td>\n",
       "      <td>52.00</td>\n",
       "      <td>51.81</td>\n",
       "      <td>Jalisco</td>\n",
       "      <td>139679.48800</td>\n",
       "      <td>139169.12064</td>\n",
       "      <td>0</td>\n",
       "      <td>0</td>\n",
       "      <td>0</td>\n",
       "    </tr>\n",
       "    <tr>\n",
       "      <th>4</th>\n",
       "      <td>4</td>\n",
       "      <td>2686.144</td>\n",
       "      <td>2686.144</td>\n",
       "      <td>0</td>\n",
       "      <td>0</td>\n",
       "      <td>194.85</td>\n",
       "      <td>197.55</td>\n",
       "      <td>Jalisco</td>\n",
       "      <td>523395.15840</td>\n",
       "      <td>530647.74720</td>\n",
       "      <td>0</td>\n",
       "      <td>0</td>\n",
       "      <td>0</td>\n",
       "    </tr>\n",
       "  </tbody>\n",
       "</table>\n",
       "</div>"
      ],
      "text/plain": [
       "   key  vsm_enero  vsm_febrero  PagosVencidos_enero  PagosVencidos_febrero  \\\n",
       "0    0   2686.144     2686.144                    0                      0   \n",
       "1    1   2686.144     2686.144                    0                      0   \n",
       "2    2   2686.144     2686.144                    0                      0   \n",
       "3    3   2686.144     2686.144                    0                      0   \n",
       "4    4   2686.144     2686.144                    0                      0   \n",
       "\n",
       "   RemainingDebt_enero  RemainingDebt_febrero   estado  saldo_pesosE  \\\n",
       "0               203.19                 204.43  Jalisco  545797.59936   \n",
       "1                42.78                  42.63  Jalisco  114913.24032   \n",
       "2               190.63                 189.87  Jalisco  512059.63072   \n",
       "3                52.00                  51.81  Jalisco  139679.48800   \n",
       "4               194.85                 197.55  Jalisco  523395.15840   \n",
       "\n",
       "   saldo_pesosF  DueDaysE  DueDaysF  jump  \n",
       "0  549128.41792         0         0     0  \n",
       "1  114510.31872         0         0     0  \n",
       "2  510018.16128         0         0     0  \n",
       "3  139169.12064         0         0     0  \n",
       "4  530647.74720         0         0     0  "
      ]
     },
     "execution_count": 93,
     "metadata": {},
     "output_type": "execute_result"
    }
   ],
   "source": [
    "Table[\"jump\"] = Table[\"DueDaysE\"] - Table[\"DueDaysF\"]\n",
    "Table.head()"
   ]
  },
  {
   "cell_type": "code",
   "execution_count": 94,
   "metadata": {},
   "outputs": [
    {
     "data": {
      "text/plain": [
       " 0     16636\n",
       "-30     1223\n",
       " 30      535\n",
       " 60       42\n",
       " 90       10\n",
       "Name: jump, dtype: int64"
      ]
     },
     "execution_count": 94,
     "metadata": {},
     "output_type": "execute_result"
    }
   ],
   "source": [
    "Table[\"jump\"].value_counts()"
   ]
  },
  {
   "cell_type": "code",
   "execution_count": 95,
   "metadata": {},
   "outputs": [
    {
     "ename": "NameError",
     "evalue": "name 'Performance_RolJ' is not defined",
     "output_type": "error",
     "traceback": [
      "\u001b[1;31m---------------------------------------------------------------------------\u001b[0m",
      "\u001b[1;31mNameError\u001b[0m                                 Traceback (most recent call last)",
      "\u001b[1;32m<ipython-input-95-9b6c437097ae>\u001b[0m in \u001b[0;36m<module>\u001b[1;34m\u001b[0m\n\u001b[1;32m----> 1\u001b[1;33m \u001b[0mPerformance_RolJ\u001b[0m\u001b[1;33m[\u001b[0m\u001b[1;34m\"jump\"\u001b[0m\u001b[1;33m]\u001b[0m\u001b[1;33m.\u001b[0m\u001b[0mvalue_counts\u001b[0m\u001b[1;33m(\u001b[0m\u001b[1;33m)\u001b[0m\u001b[1;33m\u001b[0m\u001b[1;33m\u001b[0m\u001b[0m\n\u001b[0m",
      "\u001b[1;31mNameError\u001b[0m: name 'Performance_RolJ' is not defined"
     ]
    }
   ],
   "source": [
    "Performance_RolJ[\"jump\"].value_counts()"
   ]
  },
  {
   "cell_type": "code",
   "execution_count": 126,
   "metadata": {},
   "outputs": [
    {
     "name": "stdout",
     "output_type": "stream",
     "text": [
      "estado\n",
      "Aguascalientes          161\n",
      "Baja California        1985\n",
      "Baja California Sur     579\n",
      "Campeche                 24\n",
      "Chiapas                 197\n",
      "Chihuahua               979\n",
      "Coahuila                409\n",
      "Colima                   60\n",
      "Distrito Federal        408\n",
      "Durango                  52\n",
      "Estado de Mexico       2339\n",
      "Guanajuato              517\n",
      "Guerrero                162\n",
      "Hidalgo                  88\n",
      "Jalisco                2354\n",
      "Michoacan               206\n",
      "Morelos                 109\n",
      "Nayarit                 202\n",
      "Nuevo Leon             1532\n",
      "Oaxaca                  328\n",
      "Puebla                  539\n",
      "Queretaro               379\n",
      "Quintana Roo            987\n",
      "San Luis Potosi         894\n",
      "Sinaloa                 578\n",
      "Sonora                  697\n",
      "Tabasco                  60\n",
      "Tamaulipas              980\n",
      "Tlaxcala                 14\n",
      "Veracruz                523\n",
      "Yucatan                  44\n",
      "Zacatecas                60\n",
      "Name: key, dtype: int64\n"
     ]
    }
   ],
   "source": [
    "State_Count_Key = Table.groupby('estado')['key'].nunique()\n",
    "print(State_Count_Key)"
   ]
  },
  {
   "cell_type": "code",
   "execution_count": 147,
   "metadata": {},
   "outputs": [
    {
     "data": {
      "text/html": [
       "<div>\n",
       "<style scoped>\n",
       "    .dataframe tbody tr th:only-of-type {\n",
       "        vertical-align: middle;\n",
       "    }\n",
       "\n",
       "    .dataframe tbody tr th {\n",
       "        vertical-align: top;\n",
       "    }\n",
       "\n",
       "    .dataframe thead th {\n",
       "        text-align: right;\n",
       "    }\n",
       "</style>\n",
       "<table border=\"1\" class=\"dataframe\">\n",
       "  <thead>\n",
       "    <tr style=\"text-align: right;\">\n",
       "      <th></th>\n",
       "      <th>estado</th>\n",
       "      <th>key</th>\n",
       "    </tr>\n",
       "  </thead>\n",
       "  <tbody>\n",
       "    <tr>\n",
       "      <th>0</th>\n",
       "      <td>Aguascalientes</td>\n",
       "      <td>161</td>\n",
       "    </tr>\n",
       "    <tr>\n",
       "      <th>1</th>\n",
       "      <td>Baja California</td>\n",
       "      <td>1985</td>\n",
       "    </tr>\n",
       "    <tr>\n",
       "      <th>2</th>\n",
       "      <td>Baja California Sur</td>\n",
       "      <td>579</td>\n",
       "    </tr>\n",
       "    <tr>\n",
       "      <th>3</th>\n",
       "      <td>Campeche</td>\n",
       "      <td>24</td>\n",
       "    </tr>\n",
       "    <tr>\n",
       "      <th>4</th>\n",
       "      <td>Chiapas</td>\n",
       "      <td>197</td>\n",
       "    </tr>\n",
       "  </tbody>\n",
       "</table>\n",
       "</div>"
      ],
      "text/plain": [
       "                estado   key\n",
       "0       Aguascalientes   161\n",
       "1      Baja California  1985\n",
       "2  Baja California Sur   579\n",
       "3             Campeche    24\n",
       "4              Chiapas   197"
      ]
     },
     "execution_count": 147,
     "metadata": {},
     "output_type": "execute_result"
    }
   ],
   "source": [
    "State_Count_Key_df = pd.DataFrame(State_Count_Key)\n",
    "State_Count_Key_df = State_Count_Key_df.reset_index()\n",
    "State_Count_Key_df.head()"
   ]
  },
  {
   "cell_type": "code",
   "execution_count": 168,
   "metadata": {},
   "outputs": [],
   "source": [
    "x_axis = np.arange(len(State_Count_Key_df))\n",
    "tick_locations = [value+0.4 for value in x_axis]"
   ]
  },
  {
   "cell_type": "code",
   "execution_count": 220,
   "metadata": {},
   "outputs": [
    {
     "data": {
      "image/png": "[encoded data removed]",
      "text/plain": [
       "<Figure size 1440x216 with 1 Axes>"
      ]
     },
     "metadata": {
      "needs_background": "light"
     },
     "output_type": "display_data"
    }
   ],
   "source": [
    "# Create a list indicating where to write x labels and set figure size to adjust for space\n",
    "plt.figure(figsize=(20,3))\n",
    "plt.bar(x_axis, State_Count_Key_df['key'], color='b', alpha=0.75, align=\"edge\")\n",
    "plt.xticks(tick_locations, State_Count_Key_df['estado'], rotation= \"vertical\")\n",
    "plt.ylim(0, max(State_Count_Key_df[\"key\"])+200)\n",
    "plt.xlim(-0.25, len(x_axis))\n",
    "\n",
    "plt.title(\"Total Number of Cases by State\")\n",
    "plt.xlabel(\"State\")\n",
    "plt.ylabel(\"Total Cases\")\n",
    "# Save our graph and show the grap\n",
    "plt.show()"
   ]
  },
  {
   "cell_type": "code",
   "execution_count": 375,
   "metadata": {},
   "outputs": [],
   "source": [
    "State_Count_Vencidos_Enero = Table.groupby('estado')['PagosVencidos_enero'].nunique()"
   ]
  },
  {
   "cell_type": "code",
   "execution_count": 376,
   "metadata": {},
   "outputs": [],
   "source": [
    "State_Count_Vencidos_Febrero = Table.groupby('estado')['PagosVencidos_febrero'].nunique()"
   ]
  },
  {
   "cell_type": "code",
   "execution_count": 210,
   "metadata": {},
   "outputs": [
    {
     "data": {
      "text/html": [
       "<div>\n",
       "<style scoped>\n",
       "    .dataframe tbody tr th:only-of-type {\n",
       "        vertical-align: middle;\n",
       "    }\n",
       "\n",
       "    .dataframe tbody tr th {\n",
       "        vertical-align: top;\n",
       "    }\n",
       "\n",
       "    .dataframe thead th {\n",
       "        text-align: right;\n",
       "    }\n",
       "</style>\n",
       "<table border=\"1\" class=\"dataframe\">\n",
       "  <thead>\n",
       "    <tr style=\"text-align: right;\">\n",
       "      <th></th>\n",
       "      <th>estado</th>\n",
       "      <th>PagosVencidos_enero</th>\n",
       "    </tr>\n",
       "  </thead>\n",
       "  <tbody>\n",
       "    <tr>\n",
       "      <th>0</th>\n",
       "      <td>Aguascalientes</td>\n",
       "      <td>2</td>\n",
       "    </tr>\n",
       "    <tr>\n",
       "      <th>1</th>\n",
       "      <td>Baja California</td>\n",
       "      <td>4</td>\n",
       "    </tr>\n",
       "    <tr>\n",
       "      <th>2</th>\n",
       "      <td>Baja California Sur</td>\n",
       "      <td>3</td>\n",
       "    </tr>\n",
       "    <tr>\n",
       "      <th>3</th>\n",
       "      <td>Campeche</td>\n",
       "      <td>4</td>\n",
       "    </tr>\n",
       "    <tr>\n",
       "      <th>4</th>\n",
       "      <td>Chiapas</td>\n",
       "      <td>3</td>\n",
       "    </tr>\n",
       "  </tbody>\n",
       "</table>\n",
       "</div>"
      ],
      "text/plain": [
       "                estado  PagosVencidos_enero\n",
       "0       Aguascalientes                    2\n",
       "1      Baja California                    4\n",
       "2  Baja California Sur                    3\n",
       "3             Campeche                    4\n",
       "4              Chiapas                    3"
      ]
     },
     "execution_count": 210,
     "metadata": {},
     "output_type": "execute_result"
    }
   ],
   "source": [
    "State_Count_Vencidos_Enero_df = pd.DataFrame(State_Count_Vencidos_Enero)\n",
    "State_Count_Vencidos_Enero_df = State_Count_Vencidos_Enero_df.reset_index()\n",
    "State_Count_Vencidos_Enero_df.head()"
   ]
  },
  {
   "cell_type": "code",
   "execution_count": 218,
   "metadata": {},
   "outputs": [
    {
     "data": {
      "text/html": [
       "<div>\n",
       "<style scoped>\n",
       "    .dataframe tbody tr th:only-of-type {\n",
       "        vertical-align: middle;\n",
       "    }\n",
       "\n",
       "    .dataframe tbody tr th {\n",
       "        vertical-align: top;\n",
       "    }\n",
       "\n",
       "    .dataframe thead th {\n",
       "        text-align: right;\n",
       "    }\n",
       "</style>\n",
       "<table border=\"1\" class=\"dataframe\">\n",
       "  <thead>\n",
       "    <tr style=\"text-align: right;\">\n",
       "      <th></th>\n",
       "      <th>estado</th>\n",
       "      <th>PagosVencidos_febrero</th>\n",
       "    </tr>\n",
       "  </thead>\n",
       "  <tbody>\n",
       "    <tr>\n",
       "      <th>0</th>\n",
       "      <td>Aguascalientes</td>\n",
       "      <td>3</td>\n",
       "    </tr>\n",
       "    <tr>\n",
       "      <th>1</th>\n",
       "      <td>Baja California</td>\n",
       "      <td>5</td>\n",
       "    </tr>\n",
       "    <tr>\n",
       "      <th>2</th>\n",
       "      <td>Baja California Sur</td>\n",
       "      <td>4</td>\n",
       "    </tr>\n",
       "    <tr>\n",
       "      <th>3</th>\n",
       "      <td>Campeche</td>\n",
       "      <td>4</td>\n",
       "    </tr>\n",
       "    <tr>\n",
       "      <th>4</th>\n",
       "      <td>Chiapas</td>\n",
       "      <td>4</td>\n",
       "    </tr>\n",
       "  </tbody>\n",
       "</table>\n",
       "</div>"
      ],
      "text/plain": [
       "                estado  PagosVencidos_febrero\n",
       "0       Aguascalientes                      3\n",
       "1      Baja California                      5\n",
       "2  Baja California Sur                      4\n",
       "3             Campeche                      4\n",
       "4              Chiapas                      4"
      ]
     },
     "execution_count": 218,
     "metadata": {},
     "output_type": "execute_result"
    }
   ],
   "source": [
    "State_Count_Vencidos_Febrero_df = pd.DataFrame(State_Count_Vencidos_Febrero)\n",
    "State_Count_Vencidos_Febrero_df = State_Count_Vencidos_Febrero_df.reset_index()\n",
    "State_Count_Vencidos_Febrero_df.head()"
   ]
  },
  {
   "cell_type": "code",
   "execution_count": 219,
   "metadata": {},
   "outputs": [],
   "source": [
    "x_axis = np.arange(len(State_Count_Vencidos_Enero_df))\n",
    "tick_locations = [value+0.4 for value in x_axis]"
   ]
  },
  {
   "cell_type": "code",
   "execution_count": 223,
   "metadata": {},
   "outputs": [
    {
     "data": {
      "image/png": "[encoded data removed]",
      "text/plain": [
       "<Figure size 1440x216 with 1 Axes>"
      ]
     },
     "metadata": {
      "needs_background": "light"
     },
     "output_type": "display_data"
    }
   ],
   "source": [
    "# Create a list indicating where to write x labels and set figure size to adjust for space\n",
    "plt.figure(figsize=(20,3))\n",
    "plt.bar(x_axis, State_Count_Vencidos_Enero_df['PagosVencidos_enero'], color='r', alpha=0.75, align=\"edge\")\n",
    "plt.xticks(tick_locations, State_Count_Vencidos_Enero_df['estado'], rotation= \"vertical\")\n",
    "plt.ylim(0, max(State_Count_Vencidos_Enero_df[\"PagosVencidos_enero\"])+1)\n",
    "plt.xlim(-0.25, len(x_axis))\n",
    "\n",
    "plt.title(\"Total Number of Vencidos in January by State\")\n",
    "plt.xlabel(\"State\")\n",
    "plt.ylabel(\"Number of Vencidos\")\n",
    "# Save our graph and show the grap\n",
    "plt.show()"
   ]
  },
  {
   "cell_type": "code",
   "execution_count": 224,
   "metadata": {},
   "outputs": [],
   "source": [
    "x_axis = np.arange(len(State_Count_Vencidos_Febrero_df))\n",
    "tick_locations = [value+0.4 for value in x_axis]"
   ]
  },
  {
   "cell_type": "code",
   "execution_count": 226,
   "metadata": {},
   "outputs": [
    {
     "data": {
      "image/png": "[encoded data removed]",
      "text/plain": [
       "<Figure size 1440x216 with 1 Axes>"
      ]
     },
     "metadata": {
      "needs_background": "light"
     },
     "output_type": "display_data"
    }
   ],
   "source": [
    "# Create a list indicating where to write x labels and set figure size to adjust for space\n",
    "plt.figure(figsize=(20,3))\n",
    "plt.bar(x_axis, State_Count_Vencidos_Febrero_df['PagosVencidos_febrero'], color='r', alpha=0.75, align=\"edge\")\n",
    "plt.xticks(tick_locations, State_Count_Vencidos_Febrero_df['estado'], rotation= \"vertical\")\n",
    "plt.ylim(0, max(State_Count_Vencidos_Febrero_df[\"PagosVencidos_febrero\"])+1)\n",
    "plt.xlim(-0.25, len(x_axis))\n",
    "\n",
    "plt.title(\"Total Number of Vencidos in February by State\")\n",
    "plt.xlabel(\"State\")\n",
    "plt.ylabel(\"Number of Vencidos\")\n",
    "# Save our graph and show the grap\n",
    "plt.show()"
   ]
  },
  {
   "cell_type": "code",
   "execution_count": 266,
   "metadata": {},
   "outputs": [
    {
     "name": "stdout",
     "output_type": "stream",
     "text": [
      "                      key  PagosVencidos_enero  PagosVencidos_febrero\n",
      "estado                                                               \n",
      "Aguascalientes        161                    2                      3\n",
      "Baja California      1985                    4                      5\n",
      "Baja California Sur   579                    3                      4\n",
      "Campeche               24                    4                      4\n",
      "Chiapas               197                    3                      4\n",
      "Chihuahua             979                    4                      5\n",
      "Coahuila              409                    4                      4\n",
      "Colima                 60                    2                      2\n",
      "Distrito Federal      408                    4                      5\n",
      "Durango                52                    3                      3\n",
      "Estado de Mexico     2339                    4                      5\n",
      "Guanajuato            517                    4                      4\n",
      "Guerrero              162                    4                      4\n",
      "Hidalgo                88                    2                      3\n",
      "Jalisco              2354                    4                      5\n",
      "Michoacan             206                    3                      3\n",
      "Morelos               109                    3                      4\n",
      "Nayarit               202                    3                      4\n",
      "Nuevo Leon           1532                    4                      5\n",
      "Oaxaca                328                    3                      3\n",
      "Puebla                539                    4                      4\n",
      "Queretaro             379                    4                      5\n",
      "Quintana Roo          987                    4                      5\n",
      "San Luis Potosi       894                    3                      4\n",
      "Sinaloa               578                    4                      4\n",
      "Sonora                697                    4                      4\n",
      "Tabasco                60                    3                      3\n",
      "Tamaulipas            980                    4                      5\n",
      "Tlaxcala               14                    2                      1\n",
      "Veracruz              523                    4                      4\n",
      "Yucatan                44                    3                      3\n",
      "Zacatecas              60                    2                      2\n"
     ]
    }
   ],
   "source": [
    "Total_Vencidos_Per_State_Enero_Febrero = Table.groupby('estado')[\"key\", \"PagosVencidos_enero\", \"PagosVencidos_febrero\"].nunique()\n",
    "print(Total_Vencidos_Per_State_Enero_Febrero)"
   ]
  },
  {
   "cell_type": "code",
   "execution_count": 278,
   "metadata": {},
   "outputs": [
    {
     "data": {
      "text/html": [
       "<div>\n",
       "<style scoped>\n",
       "    .dataframe tbody tr th:only-of-type {\n",
       "        vertical-align: middle;\n",
       "    }\n",
       "\n",
       "    .dataframe tbody tr th {\n",
       "        vertical-align: top;\n",
       "    }\n",
       "\n",
       "    .dataframe thead th {\n",
       "        text-align: right;\n",
       "    }\n",
       "</style>\n",
       "<table border=\"1\" class=\"dataframe\">\n",
       "  <thead>\n",
       "    <tr style=\"text-align: right;\">\n",
       "      <th></th>\n",
       "      <th>estado</th>\n",
       "      <th>key</th>\n",
       "      <th>PagosVencidos_enero</th>\n",
       "      <th>PagosVencidos_febrero</th>\n",
       "      <th>Total_Vencidos</th>\n",
       "    </tr>\n",
       "  </thead>\n",
       "  <tbody>\n",
       "    <tr>\n",
       "      <th>0</th>\n",
       "      <td>Aguascalientes</td>\n",
       "      <td>161</td>\n",
       "      <td>2</td>\n",
       "      <td>3</td>\n",
       "      <td>5</td>\n",
       "    </tr>\n",
       "    <tr>\n",
       "      <th>1</th>\n",
       "      <td>Baja California</td>\n",
       "      <td>1985</td>\n",
       "      <td>4</td>\n",
       "      <td>5</td>\n",
       "      <td>9</td>\n",
       "    </tr>\n",
       "    <tr>\n",
       "      <th>2</th>\n",
       "      <td>Baja California Sur</td>\n",
       "      <td>579</td>\n",
       "      <td>3</td>\n",
       "      <td>4</td>\n",
       "      <td>7</td>\n",
       "    </tr>\n",
       "    <tr>\n",
       "      <th>3</th>\n",
       "      <td>Campeche</td>\n",
       "      <td>24</td>\n",
       "      <td>4</td>\n",
       "      <td>4</td>\n",
       "      <td>8</td>\n",
       "    </tr>\n",
       "    <tr>\n",
       "      <th>4</th>\n",
       "      <td>Chiapas</td>\n",
       "      <td>197</td>\n",
       "      <td>3</td>\n",
       "      <td>4</td>\n",
       "      <td>7</td>\n",
       "    </tr>\n",
       "  </tbody>\n",
       "</table>\n",
       "</div>"
      ],
      "text/plain": [
       "                estado   key  PagosVencidos_enero  PagosVencidos_febrero  \\\n",
       "0       Aguascalientes   161                    2                      3   \n",
       "1      Baja California  1985                    4                      5   \n",
       "2  Baja California Sur   579                    3                      4   \n",
       "3             Campeche    24                    4                      4   \n",
       "4              Chiapas   197                    3                      4   \n",
       "\n",
       "   Total_Vencidos  \n",
       "0               5  \n",
       "1               9  \n",
       "2               7  \n",
       "3               8  \n",
       "4               7  "
      ]
     },
     "execution_count": 278,
     "metadata": {},
     "output_type": "execute_result"
    }
   ],
   "source": [
    "Total_Vencidos_Per_State_Enero_Febrero_df = pd.DataFrame(Total_Vencidos_Per_State_Enero_Febrero)\n",
    "Total_Vencidos_Per_State_Enero_Febrero_df = Total_Vencidos_Per_State_Enero_Febrero_df.reset_index()\n",
    "Total_Vencidos_Per_State_Enero_Febrero_df['Total_Vencidos']= (State_Count_Vencidos_Enero_df['PagosVencidos_enero']+State_Count_Vencidos_Febrero_df['PagosVencidos_febrero'])\n",
    "Total_Vencidos_Per_State_Enero_Febrero_df.head()"
   ]
  },
  {
   "cell_type": "code",
   "execution_count": 279,
   "metadata": {},
   "outputs": [],
   "source": [
    "x_axis = np.arange(len(Total_Vencidos_Per_State_Enero_Febrero_df))\n",
    "tick_locations = [value+0.4 for value in x_axis]"
   ]
  },
  {
   "cell_type": "code",
   "execution_count": 283,
   "metadata": {},
   "outputs": [
    {
     "data": {
      "image/png": "[encoded data removed]",
      "text/plain": [
       "<Figure size 1440x216 with 1 Axes>"
      ]
     },
     "metadata": {
      "needs_background": "light"
     },
     "output_type": "display_data"
    }
   ],
   "source": [
    "# Create a list indicating where to write x labels and set figure size to adjust for space\n",
    "plt.figure(figsize=(20,3))\n",
    "plt.bar(x_axis, Total_Vencidos_Per_State_Enero_Febrero_df['Total_Vencidos'], color='r', alpha=0.75, align=\"edge\")\n",
    "plt.xticks(tick_locations, Total_Vencidos_Per_State_Enero_Febrero_df['estado'], rotation= \"vertical\")\n",
    "plt.ylim(0, max(Total_Vencidos_Per_State_Enero_Febrero_df[\"Total_Vencidos\"])+2)\n",
    "plt.xlim(-0.25, len(x_axis))\n",
    "\n",
    "plt.title(\"Total Number of Vencidos in January & February by State\")\n",
    "plt.xlabel(\"State\")\n",
    "plt.ylabel(\"Number of Vencidos\")\n",
    "# Save our graph and show the grap\n",
    "plt.show()"
   ]
  },
  {
   "cell_type": "code",
   "execution_count": 377,
   "metadata": {},
   "outputs": [],
   "source": [
    "Percentage_Vencidos_Per_State_Enero = Table.groupby('estado')[\"key\", \"PagosVencidos_enero\"].nunique()"
   ]
  },
  {
   "cell_type": "code",
   "execution_count": 378,
   "metadata": {},
   "outputs": [],
   "source": [
    "Percentage_Vencidos_Per_State_Febrero = Table.groupby('estado')[\"key\", \"PagosVencidos_febrero\"].nunique()"
   ]
  },
  {
   "cell_type": "code",
   "execution_count": 379,
   "metadata": {},
   "outputs": [
    {
     "data": {
      "text/html": [
       "<div>\n",
       "<style scoped>\n",
       "    .dataframe tbody tr th:only-of-type {\n",
       "        vertical-align: middle;\n",
       "    }\n",
       "\n",
       "    .dataframe tbody tr th {\n",
       "        vertical-align: top;\n",
       "    }\n",
       "\n",
       "    .dataframe thead th {\n",
       "        text-align: right;\n",
       "    }\n",
       "</style>\n",
       "<table border=\"1\" class=\"dataframe\">\n",
       "  <thead>\n",
       "    <tr style=\"text-align: right;\">\n",
       "      <th></th>\n",
       "      <th>estado</th>\n",
       "      <th>key</th>\n",
       "      <th>PagosVencidos_enero</th>\n",
       "      <th>PercentageVencidos_enero</th>\n",
       "      <th>AverageVencidos_ene-feb</th>\n",
       "    </tr>\n",
       "  </thead>\n",
       "  <tbody>\n",
       "    <tr>\n",
       "      <th>0</th>\n",
       "      <td>Aguascalientes</td>\n",
       "      <td>161</td>\n",
       "      <td>2</td>\n",
       "      <td>1.242</td>\n",
       "      <td>1.550</td>\n",
       "    </tr>\n",
       "    <tr>\n",
       "      <th>1</th>\n",
       "      <td>Baja California</td>\n",
       "      <td>1985</td>\n",
       "      <td>4</td>\n",
       "      <td>0.202</td>\n",
       "      <td>0.225</td>\n",
       "    </tr>\n",
       "    <tr>\n",
       "      <th>2</th>\n",
       "      <td>Baja California Sur</td>\n",
       "      <td>579</td>\n",
       "      <td>3</td>\n",
       "      <td>0.518</td>\n",
       "      <td>0.605</td>\n",
       "    </tr>\n",
       "    <tr>\n",
       "      <th>3</th>\n",
       "      <td>Campeche</td>\n",
       "      <td>24</td>\n",
       "      <td>4</td>\n",
       "      <td>16.667</td>\n",
       "      <td>16.665</td>\n",
       "    </tr>\n",
       "    <tr>\n",
       "      <th>4</th>\n",
       "      <td>Chiapas</td>\n",
       "      <td>197</td>\n",
       "      <td>3</td>\n",
       "      <td>1.523</td>\n",
       "      <td>1.775</td>\n",
       "    </tr>\n",
       "  </tbody>\n",
       "</table>\n",
       "</div>"
      ],
      "text/plain": [
       "                estado   key  PagosVencidos_enero  PercentageVencidos_enero  \\\n",
       "0       Aguascalientes   161                    2                     1.242   \n",
       "1      Baja California  1985                    4                     0.202   \n",
       "2  Baja California Sur   579                    3                     0.518   \n",
       "3             Campeche    24                    4                    16.667   \n",
       "4              Chiapas   197                    3                     1.523   \n",
       "\n",
       "   AverageVencidos_ene-feb  \n",
       "0                    1.550  \n",
       "1                    0.225  \n",
       "2                    0.605  \n",
       "3                   16.665  \n",
       "4                    1.775  "
      ]
     },
     "execution_count": 379,
     "metadata": {},
     "output_type": "execute_result"
    }
   ],
   "source": [
    "Percentage_Vencidos_Per_State_Enero_df = pd.DataFrame(Percentage_Vencidos_Per_State_Enero)\n",
    "Percentage_Vencidos_Per_State_Enero_df = Percentage_Vencidos_Per_State_Enero_df.reset_index()\n",
    "Percentage_Vencidos_Per_State_Enero_df['PercentageVencidos_enero']= round(State_Count_Vencidos_Enero_df['PagosVencidos_enero']/State_Count_Key_df['key']*100,3)\n",
    "Percentage_Vencidos_Per_State_Enero_df ['AverageVencidos_ene-feb']= round(Percentage_Vencidos_Per_State_Enero_df['PercentageVencidos_enero']+Percentage_Vencidos_Per_State_Febrero_df['PercentageVencidos_febrero'],2)/2\n",
    "Percentage_Vencidos_Per_State_Enero_df.head()"
   ]
  },
  {
   "cell_type": "code",
   "execution_count": 380,
   "metadata": {},
   "outputs": [
    {
     "data": {
      "text/html": [
       "<div>\n",
       "<style scoped>\n",
       "    .dataframe tbody tr th:only-of-type {\n",
       "        vertical-align: middle;\n",
       "    }\n",
       "\n",
       "    .dataframe tbody tr th {\n",
       "        vertical-align: top;\n",
       "    }\n",
       "\n",
       "    .dataframe thead th {\n",
       "        text-align: right;\n",
       "    }\n",
       "</style>\n",
       "<table border=\"1\" class=\"dataframe\">\n",
       "  <thead>\n",
       "    <tr style=\"text-align: right;\">\n",
       "      <th></th>\n",
       "      <th>estado</th>\n",
       "      <th>key</th>\n",
       "      <th>PagosVencidos_febrero</th>\n",
       "      <th>PercentageVencidos_febrero</th>\n",
       "      <th>AverageVencidos_ene-feb</th>\n",
       "    </tr>\n",
       "  </thead>\n",
       "  <tbody>\n",
       "    <tr>\n",
       "      <th>0</th>\n",
       "      <td>Aguascalientes</td>\n",
       "      <td>161</td>\n",
       "      <td>3</td>\n",
       "      <td>1.863</td>\n",
       "      <td>1.550</td>\n",
       "    </tr>\n",
       "    <tr>\n",
       "      <th>1</th>\n",
       "      <td>Baja California</td>\n",
       "      <td>1985</td>\n",
       "      <td>5</td>\n",
       "      <td>0.252</td>\n",
       "      <td>0.225</td>\n",
       "    </tr>\n",
       "    <tr>\n",
       "      <th>2</th>\n",
       "      <td>Baja California Sur</td>\n",
       "      <td>579</td>\n",
       "      <td>4</td>\n",
       "      <td>0.691</td>\n",
       "      <td>0.605</td>\n",
       "    </tr>\n",
       "    <tr>\n",
       "      <th>3</th>\n",
       "      <td>Campeche</td>\n",
       "      <td>24</td>\n",
       "      <td>4</td>\n",
       "      <td>16.667</td>\n",
       "      <td>16.665</td>\n",
       "    </tr>\n",
       "    <tr>\n",
       "      <th>4</th>\n",
       "      <td>Chiapas</td>\n",
       "      <td>197</td>\n",
       "      <td>4</td>\n",
       "      <td>2.030</td>\n",
       "      <td>1.775</td>\n",
       "    </tr>\n",
       "  </tbody>\n",
       "</table>\n",
       "</div>"
      ],
      "text/plain": [
       "                estado   key  PagosVencidos_febrero  \\\n",
       "0       Aguascalientes   161                      3   \n",
       "1      Baja California  1985                      5   \n",
       "2  Baja California Sur   579                      4   \n",
       "3             Campeche    24                      4   \n",
       "4              Chiapas   197                      4   \n",
       "\n",
       "   PercentageVencidos_febrero  AverageVencidos_ene-feb  \n",
       "0                       1.863                    1.550  \n",
       "1                       0.252                    0.225  \n",
       "2                       0.691                    0.605  \n",
       "3                      16.667                   16.665  \n",
       "4                       2.030                    1.775  "
      ]
     },
     "execution_count": 380,
     "metadata": {},
     "output_type": "execute_result"
    }
   ],
   "source": [
    "Percentage_Vencidos_Per_State_Febrero_df = pd.DataFrame(Percentage_Vencidos_Per_State_Febrero)\n",
    "Percentage_Vencidos_Per_State_Febrero_df = Percentage_Vencidos_Per_State_Febrero_df.reset_index()\n",
    "Percentage_Vencidos_Per_State_Febrero_df['PercentageVencidos_febrero']= round(State_Count_Vencidos_Febrero_df['PagosVencidos_febrero']/State_Count_Key_df['key']*100,3)\n",
    "Percentage_Vencidos_Per_State_Febrero_df ['AverageVencidos_ene-feb']= round(Percentage_Vencidos_Per_State_Enero_df['PercentageVencidos_enero']+Percentage_Vencidos_Per_State_Febrero_df['PercentageVencidos_febrero'],2)/2\n",
    "Percentage_Vencidos_Per_State_Febrero_df.head()"
   ]
  },
  {
   "cell_type": "code",
   "execution_count": 381,
   "metadata": {},
   "outputs": [],
   "source": [
    "x_axis = np.arange(len(Percentage_Vencidos_Per_State_Enero_df))\n",
    "tick_locations = [value+0.4 for value in x_axis]"
   ]
  },
  {
   "cell_type": "code",
   "execution_count": 382,
   "metadata": {},
   "outputs": [
    {
     "data": {
      "image/png": "[encoded data removed]",
      "text/plain": [
       "<Figure size 432x288 with 1 Axes>"
      ]
     },
     "metadata": {
      "needs_background": "light"
     },
     "output_type": "display_data"
    }
   ],
   "source": [
    "# Plot both months' percentages of vencidos on the same chart for monthly comparison\n",
    "# I can't manage to get the state names on the X-AXIS\n",
    "January = (Percentage_Vencidos_Per_State_Enero_df['PercentageVencidos_enero'])\n",
    "February = (Percentage_Vencidos_Per_State_Febrero_df['PercentageVencidos_febrero'])\n",
    "plt.plot(x_axis, January)\n",
    "plt.plot(x_axis, February)\n",
    "\n",
    "plt.ylim(0, max(Percentage_Vencidos_Per_State_Enero_df['PercentageVencidos_enero'])+1.5)\n",
    "plt.xlim(-0.25, len(x_axis))\n",
    "\n",
    "# Create a handle for each plot\n",
    "January, = plt.plot(x_axis, January, color=\"blue\", linewidth=1, label=\"January\")\n",
    "February, = plt.plot(x_axis, February, color=\"Red\", linewidth=1, label=\"February\")\n",
    "\n",
    "plt.legend(handles=[January, February], loc=\"best\")\n",
    "\n",
    "plt.title(\"Percentages of Vencidos in January & February by State\")\n",
    "plt.xlabel(\"State\")\n",
    "plt.ylabel(\"Pecentage (%) of Vencidos\")\n",
    "\n",
    "plt.show()"
   ]
  },
  {
   "cell_type": "code",
   "execution_count": 383,
   "metadata": {},
   "outputs": [],
   "source": [
    "x_axis = np.arange(len(Percentage_Vencidos_Per_State_Enero_df))\n",
    "tick_locations = [value+0.4 for value in x_axis]"
   ]
  },
  {
   "cell_type": "code",
   "execution_count": 384,
   "metadata": {},
   "outputs": [
    {
     "data": {
      "image/png": "[encoded data removed]",
      "text/plain": [
       "<Figure size 432x288 with 1 Axes>"
      ]
     },
     "metadata": {
      "needs_background": "light"
     },
     "output_type": "display_data"
    }
   ],
   "source": [
    "# Plot AVERAGE VENCIDOS PER MONTH......this would be a good plot to include the UNEMPLOYMENT RATES as comparison\n",
    "# I still can't manage to put the state names on the X-AXIS\n",
    "Average = (Percentage_Vencidos_Per_State_Febrero_df ['AverageVencidos_ene-feb'])\n",
    "plt.plot(x_axis, Average)\n",
    "\n",
    "plt.ylim(0, max(Percentage_Vencidos_Per_State_Febrero_df ['AverageVencidos_ene-feb'])+1.5)\n",
    "plt.xlim(-0.25, len(x_axis))\n",
    "\n",
    "# Create a handle for each plot\n",
    "Average, = plt.plot(x_axis, Average, color=\"blue\", linewidth=1, label=\"Average Vencidos\")\n",
    "\n",
    "plt.legend(handles=[Average], loc=\"best\")\n",
    "\n",
    "plt.title(\"Average Percentages of Vencidos across January & February by State\")\n",
    "plt.xlabel(\"State\")\n",
    "plt.ylabel(\"Total Pecentage (%) of Vencidos - Jan-Feb\")\n",
    "\n",
    "plt.show()"
   ]
  },
  {
   "cell_type": "code",
   "execution_count": null,
   "metadata": {},
   "outputs": [],
   "source": [
    "gyms = [\"Crunch\", \"Planet Fitness\", \"NY Sports Club\", \"Rickie's Gym\"]\n",
    "members = [49, 92, 84, 53]\n",
    "x_axis = np.arange(0, len(gyms))\n",
    "colors = [\"yellowgreen\", \"red\", \"lightcoral\", \"lightskyblue\"]\n",
    "explode = (0, 0.05, 0, 0)\n",
    "\n"
   ]
  },
  {
   "cell_type": "code",
   "execution_count": 417,
   "metadata": {},
   "outputs": [
    {
     "data": {
      "text/plain": [
       "Text(0.5, 1.0, 'Performance Measurements')"
      ]
     },
     "execution_count": 417,
     "metadata": {},
     "output_type": "execute_result"
    },
    {
     "data": {
      "image/png": "[encoded data removed]",
      "text/plain": [
       "<Figure size 432x288 with 1 Axes>"
      ]
     },
     "metadata": {},
     "output_type": "display_data"
    }
   ],
   "source": [
    "#Performance - measured by stay 16636, Rol 1223, Cure 587\n",
    "Performance_Measurement = result[\"Performance\"].value_counts()\n",
    "\n",
    "#Labels for the three sections by measurement type\n",
    "labels = [\"Stay\",\"Rol\",\"Cure\"]\n",
    "\n",
    "#Color for the three sections of the Total Fares by City Type pie chart\n",
    "colors = [\"SkyBlue\", \"Yellow\", \"Orange\"]\n",
    "\n",
    "#Seperate the majority value from the pie chart\n",
    "explode = (0, 0.2, 0.5)\n",
    "\n",
    "#Create the pie chart based upon the above data\n",
    "plt.pie(Performance_Measurement, explode=explode, labels=labels, colors=colors,\n",
    "        autopct=\"%1.1f%%\", shadow=True, startangle=140)\n",
    "\n",
    "#Create axes which are equal so we have a perfect circle\n",
    "plt.axis(\"equal\")\n",
    "\n",
    "#Pie Chart Title\n",
    "plt.title(\"Performance Measurements\", fontsize = 14)\n"
   ]
  },
  {
   "cell_type": "code",
   "execution_count": 410,
   "metadata": {},
   "outputs": [
    {
     "data": {
      "text/plain": [
       "Text(0.5, 1.0, 'Jump Measurements')"
      ]
     },
     "execution_count": 410,
     "metadata": {},
     "output_type": "execute_result"
    },
    {
     "data": {
      "image/png": "[encoded data removed]",
      "text/plain": [
       "<Figure size 432x288 with 1 Axes>"
      ]
     },
     "metadata": {},
     "output_type": "display_data"
    }
   ],
   "source": [
    "#Jumps, (0)16636, (-30)1223, (30)535, (60)42, (90)10\n",
    "# IN NEED OF IDEAS TO FIND A MORE EFFECTIVE WAY TO MAKE NUMBERS/LABELS CLEAR IN THIS CHART\n",
    "Jump_Measurement = Table[\"jump\"].value_counts()\n",
    "\n",
    "#Labels for the three sections by measurement type\n",
    "labels = [0,-30,30, 60, 90]\n",
    "\n",
    "#Color for the three sections of the Total Fares by City Type pie chart\n",
    "colors = [\"SkyBlue\", \"Green\", \"Yellow\",\"Orange\",\"Red\"]\n",
    "\n",
    "#Seperate the majority value from the pie chart\n",
    "explode = (0, 0.1, 0.5, 1, 1)\n",
    "\n",
    "#Create the pie chart based upon the above data\n",
    "plt.pie(Jump_Measurement, explode=explode, labels=labels, colors=colors,\n",
    "        autopct=\"%1.1f%%\", shadow=True, startangle=140)\n",
    "\n",
    "#Create axes which are equal so we have a perfect circle\n",
    "plt.axis(\"equal\")\n",
    "\n",
    "#Pie Chart Title\n",
    "plt.title(\"Jump Measurements\", fontsize = 14)"
   ]
  },
  {
   "cell_type": "code",
   "execution_count": null,
   "metadata": {},
   "outputs": [],
   "source": []
  }
 ],
 "metadata": {
  "kernelspec": {
   "display_name": "Python 3",
   "language": "python",
   "name": "python3"
  },
  "language_info": {
   "codemirror_mode": {
    "name": "ipython",
    "version": 3
   },
   "file_extension": ".py",
   "mimetype": "text/x-python",
   "name": "python",
   "nbconvert_exporter": "python",
   "pygments_lexer": "ipython3",
   "version": "3.6.8"
  }
 },
 "nbformat": 4,
 "nbformat_minor": 2
}

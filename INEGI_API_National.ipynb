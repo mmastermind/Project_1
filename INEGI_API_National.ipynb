{
 "cells": [
  {
   "cell_type": "code",
   "execution_count": 1,
   "metadata": {
    "scrolled": true
   },
   "outputs": [],
   "source": [
    "# Dependencies and Setup\n",
    "import matplotlib.pyplot as plt\n",
    "import pandas as pd\n",
    "import numpy as np\n",
    "import requests\n",
    "import time\n",
    "\n",
    "# Import API key\n",
    "from config import key_INEGI\n",
    "from datetime import date\n",
    "output_data_file = \"output_data/rate_nal_desempleo.csv\"\n",
    "#code downloaded from stack overflow to iterate through dates as INEGI json national output is (\"TIME PERIOD\")\n",
    "from datetime import timedelta, date\n",
    "def daterange(start_date, end_date):\n",
    "    for n in range(int ((end_date - start_date).days)):\n",
    "        yield start_date + timedelta(n)"
   ]
  },
  {
   "cell_type": "code",
   "execution_count": 41,
   "metadata": {
    "scrolled": false
   },
   "outputs": [],
   "source": [
    "#URL test to see how json response is for posterior coding; boolean indicator is turned to \"false\" to get the entire historical series\n",
    "url =(f\"https://www.inegi.org.mx/app/api/indicadores/desarrolladores/jsonxml/INDICATOR/444666/es/00000/false/BIE/2.0/{key_INEGI}?type=json\")\n",
    "response_nal = requests.get(url).json()\n",
    "#un-hashtag to see actual json structure response\n",
    "#response_nal"
   ]
  },
  {
   "cell_type": "code",
   "execution_count": 15,
   "metadata": {},
   "outputs": [
    {
     "data": {
      "text/plain": [
       "173"
      ]
     },
     "execution_count": 15,
     "metadata": {},
     "output_type": "execute_result"
    }
   ],
   "source": [
    "#Determine the actual length of obesrvations from json response; in this case the data periods available\n",
    "counter=len(response_nal[\"Series\"][0][\"OBSERVATIONS\"])\n",
    "counter"
   ]
  },
  {
   "cell_type": "code",
   "execution_count": 21,
   "metadata": {},
   "outputs": [],
   "source": [
    "period=[]\n",
    "national_rate=[]\n",
    "#manual input of date matching the avaliable data from CNBV\n",
    "start_date = date(2018, 6, 1)\n",
    "end_date = date(2019, 5, 30)\n",
    "for i in range(counter):\n",
    "    period.append(response[\"Series\"][0][\"OBSERVATIONS\"][i]['TIME_PERIOD'])\n",
    "    national_rate.append(response[\"Series\"][0][\"OBSERVATIONS\"][i]['OBS_VALUE'])\n",
    "#Creating dataframe of API's data\n",
    "national_dict = {\"Mes\":period,\n",
    "    \"Tasa Nal Desempleo\":national_rate}\n",
    "national_df = pd.DataFrame(national_dict)\n",
    "national_df.head()\n",
    "req_data = national_df.loc[national_df[\"Mes\"]>\"2018/05\",:]"
   ]
  },
  {
   "cell_type": "code",
   "execution_count": 33,
   "metadata": {},
   "outputs": [
    {
     "data": {
      "text/html": [
       "<div>\n",
       "<style scoped>\n",
       "    .dataframe tbody tr th:only-of-type {\n",
       "        vertical-align: middle;\n",
       "    }\n",
       "\n",
       "    .dataframe tbody tr th {\n",
       "        vertical-align: top;\n",
       "    }\n",
       "\n",
       "    .dataframe thead th {\n",
       "        text-align: right;\n",
       "    }\n",
       "</style>\n",
       "<table border=\"1\" class=\"dataframe\">\n",
       "  <thead>\n",
       "    <tr style=\"text-align: right;\">\n",
       "      <th></th>\n",
       "      <th>Mes</th>\n",
       "      <th>Tasa Nal Desempleo</th>\n",
       "    </tr>\n",
       "  </thead>\n",
       "  <tbody>\n",
       "    <tr>\n",
       "      <th>161</th>\n",
       "      <td>2018/06</td>\n",
       "      <td>3.38527594</td>\n",
       "    </tr>\n",
       "    <tr>\n",
       "      <th>162</th>\n",
       "      <td>2018/07</td>\n",
       "      <td>3.47763888</td>\n",
       "    </tr>\n",
       "    <tr>\n",
       "      <th>163</th>\n",
       "      <td>2018/08</td>\n",
       "      <td>3.46852407</td>\n",
       "    </tr>\n",
       "    <tr>\n",
       "      <th>164</th>\n",
       "      <td>2018/09</td>\n",
       "      <td>3.60037254</td>\n",
       "    </tr>\n",
       "    <tr>\n",
       "      <th>165</th>\n",
       "      <td>2018/10</td>\n",
       "      <td>3.23839404</td>\n",
       "    </tr>\n",
       "  </tbody>\n",
       "</table>\n",
       "</div>"
      ],
      "text/plain": [
       "         Mes Tasa Nal Desempleo\n",
       "161  2018/06         3.38527594\n",
       "162  2018/07         3.47763888\n",
       "163  2018/08         3.46852407\n",
       "164  2018/09         3.60037254\n",
       "165  2018/10         3.23839404"
      ]
     },
     "execution_count": 33,
     "metadata": {},
     "output_type": "execute_result"
    }
   ],
   "source": [
    "req_data.head()"
   ]
  },
  {
   "cell_type": "code",
   "execution_count": 40,
   "metadata": {},
   "outputs": [
    {
     "data": {
      "image/png": "[encoded data removed]",
      "text/plain": [
       "<Figure size 432x288 with 1 Axes>"
      ]
     },
     "metadata": {
      "needs_background": "light"
     },
     "output_type": "display_data"
    },
    {
     "data": {
      "text/plain": [
       "<Figure size 432x288 with 0 Axes>"
      ]
     },
     "metadata": {},
     "output_type": "display_data"
    }
   ],
   "source": [
    "plt.bar(req_data[\"Mes\"],req_data[\"Tasa Nal Desempleo\"].astype(\"float\"))\n",
    "#Plot labeling, title, legend location, etc\n",
    "plt.xticks(rotation=45)\n",
    "plt.title(\"Unemployment Rate June'18 to May'19\")\n",
    "plt.xlabel(\"Period\")\n",
    "plt.ylabel(\"National Rate\")\n",
    "plt.show()\n",
    "plt.savefig(\"ratevsDaysNAL.jpg\")"
   ]
  },
  {
   "cell_type": "code",
   "execution_count": null,
   "metadata": {},
   "outputs": [],
   "source": []
  }
 ],
 "metadata": {
  "anaconda-cloud": {},
  "kernel_info": {
   "name": "python3"
  },
  "kernelspec": {
   "display_name": "Python 3",
   "language": "python",
   "name": "python3"
  },
  "language_info": {
   "codemirror_mode": {
    "name": "ipython",
    "version": 3
   },
   "file_extension": ".py",
   "mimetype": "text/x-python",
   "name": "python",
   "nbconvert_exporter": "python",
   "pygments_lexer": "ipython3",
   "version": "3.7.3"
  },
  "nteract": {
   "version": "0.12.3"
  }
 },
 "nbformat": 4,
 "nbformat_minor": 2
}

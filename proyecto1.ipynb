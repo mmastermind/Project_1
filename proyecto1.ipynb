{
 "cells": [
  {
   "cell_type": "code",
   "execution_count": 17,
   "metadata": {},
   "outputs": [
    {
     "data": {
      "text/html": [
       "<div>\n",
       "<style scoped>\n",
       "    .dataframe tbody tr th:only-of-type {\n",
       "        vertical-align: middle;\n",
       "    }\n",
       "\n",
       "    .dataframe tbody tr th {\n",
       "        vertical-align: top;\n",
       "    }\n",
       "\n",
       "    .dataframe thead th {\n",
       "        text-align: right;\n",
       "    }\n",
       "</style>\n",
       "<table border=\"1\" class=\"dataframe\">\n",
       "  <thead>\n",
       "    <tr style=\"text-align: right;\">\n",
       "      <th></th>\n",
       "      <th>key</th>\n",
       "      <th>vsm_actual_x</th>\n",
       "      <th>SaldoInsolutoActual_x</th>\n",
       "      <th>PagosVencidosMeses_x</th>\n",
       "      <th>vsm_actual_y</th>\n",
       "      <th>SaldoInsolutoActual_y</th>\n",
       "      <th>PagosVencidosMeses_y</th>\n",
       "      <th>estado</th>\n",
       "    </tr>\n",
       "  </thead>\n",
       "  <tbody>\n",
       "    <tr>\n",
       "      <th>0</th>\n",
       "      <td>0</td>\n",
       "      <td>2686.144</td>\n",
       "      <td>204.43</td>\n",
       "      <td>0</td>\n",
       "      <td>2686.144</td>\n",
       "      <td>203.19</td>\n",
       "      <td>0</td>\n",
       "      <td>Jalisco</td>\n",
       "    </tr>\n",
       "    <tr>\n",
       "      <th>1</th>\n",
       "      <td>1</td>\n",
       "      <td>2686.144</td>\n",
       "      <td>42.63</td>\n",
       "      <td>0</td>\n",
       "      <td>2686.144</td>\n",
       "      <td>42.78</td>\n",
       "      <td>0</td>\n",
       "      <td>Jalisco</td>\n",
       "    </tr>\n",
       "    <tr>\n",
       "      <th>2</th>\n",
       "      <td>2</td>\n",
       "      <td>2686.144</td>\n",
       "      <td>189.87</td>\n",
       "      <td>0</td>\n",
       "      <td>2686.144</td>\n",
       "      <td>190.63</td>\n",
       "      <td>0</td>\n",
       "      <td>Jalisco</td>\n",
       "    </tr>\n",
       "    <tr>\n",
       "      <th>3</th>\n",
       "      <td>3</td>\n",
       "      <td>2686.144</td>\n",
       "      <td>51.81</td>\n",
       "      <td>0</td>\n",
       "      <td>2686.144</td>\n",
       "      <td>52.00</td>\n",
       "      <td>0</td>\n",
       "      <td>Jalisco</td>\n",
       "    </tr>\n",
       "    <tr>\n",
       "      <th>4</th>\n",
       "      <td>4</td>\n",
       "      <td>2686.144</td>\n",
       "      <td>197.55</td>\n",
       "      <td>0</td>\n",
       "      <td>2686.144</td>\n",
       "      <td>194.85</td>\n",
       "      <td>0</td>\n",
       "      <td>Jalisco</td>\n",
       "    </tr>\n",
       "  </tbody>\n",
       "</table>\n",
       "</div>"
      ],
      "text/plain": [
       "   key  vsm_actual_x  SaldoInsolutoActual_x  PagosVencidosMeses_x  \\\n",
       "0    0      2686.144                 204.43                     0   \n",
       "1    1      2686.144                  42.63                     0   \n",
       "2    2      2686.144                 189.87                     0   \n",
       "3    3      2686.144                  51.81                     0   \n",
       "4    4      2686.144                 197.55                     0   \n",
       "\n",
       "   vsm_actual_y  SaldoInsolutoActual_y  PagosVencidosMeses_y   estado  \n",
       "0      2686.144                 203.19                     0  Jalisco  \n",
       "1      2686.144                  42.78                     0  Jalisco  \n",
       "2      2686.144                 190.63                     0  Jalisco  \n",
       "3      2686.144                  52.00                     0  Jalisco  \n",
       "4      2686.144                 194.85                     0  Jalisco  "
      ]
     },
     "execution_count": 17,
     "metadata": {},
     "output_type": "execute_result"
    }
   ],
   "source": [
    "import pandas as pd\n",
    "\n",
    "df = pd.read_excel(open('C:\\JAL CS\\RESERVAS REASEGURO ENERO 18 Slip 15.xlsx','rb'), sheetname='Hoja2')\n",
    "df.head()\n",
    "# or using sheet index starting 0\n",
    "df1 = pd.read_excel(open('C:\\JAL CS\\Reservas Reaseguro Febrero 18 Slip 15.xlsx','rb'), sheetname='Hoja1')\n",
    "df1\n",
    "\n",
    "catalogo = pd.read_excel(open('C:\\JAL CS\\Catalogo_estado.xlsx','rb'), sheetname='Sheet1')\n",
    "catalogo\n",
    "\n",
    "#el slip esta en sm\n",
    "#campos a usar key,vsm_actual,SaldoInsolutoActual,PagosVencidosMeses\n",
    "\n",
    "\n",
    "enero= df[['key','vsm_actual','SaldoInsolutoActual','PagosVencidosMeses']]\n",
    "enero_estado=pd.merge(enero,catalogo, on='key',how='inner')\n",
    "febrero=df1[['key','vsm_actual','SaldoInsolutoActual','PagosVencidosMeses']]\n",
    "\n",
    "consolidado=pd.merge(febrero,enero_estado, on='key',how='inner')\n",
    "consolidado.head()"
   ]
  },
  {
   "cell_type": "code",
   "execution_count": 21,
   "metadata": {},
   "outputs": [],
   "source": [
    "consolidado.to_csv('C:\\JAL CS\\consolidado.csv',index=False)"
   ]
  },
  {
   "cell_type": "code",
   "execution_count": 22,
   "metadata": {},
   "outputs": [
    {
     "name": "stdout",
     "output_type": "stream",
     "text": [
      "/c/Users/430010950\n"
     ]
    }
   ],
   "source": [
    "!pwd"
   ]
  },
  {
   "cell_type": "code",
   "execution_count": null,
   "metadata": {},
   "outputs": [],
   "source": []
  }
 ],
 "metadata": {
  "kernelspec": {
   "display_name": "Python 3",
   "language": "python",
   "name": "python3"
  },
  "language_info": {
   "codemirror_mode": {
    "name": "ipython",
    "version": 3
   },
   "file_extension": ".py",
   "mimetype": "text/x-python",
   "name": "python",
   "nbconvert_exporter": "python",
   "pygments_lexer": "ipython3",
   "version": "3.7.3"
  }
 },
 "nbformat": 4,
 "nbformat_minor": 2
}
